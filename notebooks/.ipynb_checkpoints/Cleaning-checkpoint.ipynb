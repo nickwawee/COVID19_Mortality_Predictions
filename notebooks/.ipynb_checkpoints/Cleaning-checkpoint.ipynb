{
 "cells": [
  {
   "cell_type": "code",
   "execution_count": 1,
   "metadata": {},
   "outputs": [],
   "source": [
    "import pandas as pd\n",
    "import numpy as np\n",
    "pd.set_option('display.max_columns', None)\n",
    "pd.set_option('display.max_rows', None)"
   ]
  },
  {
   "cell_type": "code",
   "execution_count": 2,
   "metadata": {},
   "outputs": [],
   "source": [
    "df = pd.read_csv('../data/external/COVID-19_Case_Surveillance_Public_Use_Data.csv', low_memory = False)"
   ]
  },
  {
   "cell_type": "markdown",
   "metadata": {},
   "source": [
    "The following code will filter the COVD19 data from CDC. It will go through the columns one at a time and select which values to keep and which values to filter out. Listed below is all of the columns in the dataset and their meaning:"
   ]
  },
  {
   "cell_type": "markdown",
   "metadata": {},
   "source": [
    "#### 1.) cdc_report_dt - Initial case report date to CDC\n",
    "#### 2.) pos_spec_dt - Date of first positive specimen collection\n",
    "#### 3.) onset_dt - Symptom onset date, if symptomatic\n",
    "#### 4.) current_status - Case Status: Laboratory-confirmed case; Probable case\n",
    "#### 5.) sex - Sex: Male; Female; Unknown; Other\n",
    "#### 6.) age_group - Age Group\n",
    "#### 7.) Race and ethnicity (combined) - Race and ethnicity (combined)\n",
    "#### 8.) hosp_yn - Hospitalization status\n",
    "#### 9.) icu_yn - ICU admission status\n",
    "#### 10.) death_yn - Death status\n",
    "#### 11.) medcond_yn - Presence of underlying comorbidity or disease"
   ]
  },
  {
   "cell_type": "markdown",
   "metadata": {},
   "source": [
    "## 1-3.) Dates\n",
    "\n",
    "We will disclude these from our analysis because of we do not wish to examine the dates in our model. These would be useful if you wish to capture a certain date range."
   ]
  },
  {
   "cell_type": "code",
   "execution_count": 3,
   "metadata": {},
   "outputs": [],
   "source": [
    "df = df.drop(['cdc_report_dt', 'pos_spec_dt', 'onset_dt'], axis = 1)"
   ]
  },
  {
   "cell_type": "markdown",
   "metadata": {},
   "source": [
    "## 4.) Current Status\n",
    "\n",
    "We will only include laboratory-confirmed cases to ensure that they are indeed COVID19 cases"
   ]
  },
  {
   "cell_type": "code",
   "execution_count": 4,
   "metadata": {},
   "outputs": [],
   "source": [
    "df = df[df['current_status'] == 'Laboratory-confirmed case']"
   ]
  },
  {
   "cell_type": "markdown",
   "metadata": {},
   "source": [
    "## 5.) Sex"
   ]
  },
  {
   "cell_type": "code",
   "execution_count": 5,
   "metadata": {},
   "outputs": [
    {
     "data": {
      "text/plain": [
       "Female     2806725\n",
       "Male       2594645\n",
       "Unknown      52617\n",
       "Missing       8708\n",
       "Other           68\n",
       "Name: sex, dtype: int64"
      ]
     },
     "execution_count": 5,
     "metadata": {},
     "output_type": "execute_result"
    }
   ],
   "source": [
    "df['sex'].value_counts()"
   ]
  },
  {
   "cell_type": "markdown",
   "metadata": {},
   "source": [
    "We will only include male and female in our model to best reflect model results when reporting. Also, the other values are very small in numbers for comparison-- they will not make much of a difference in the model."
   ]
  },
  {
   "cell_type": "code",
   "execution_count": 6,
   "metadata": {},
   "outputs": [],
   "source": [
    "df = df[(df['sex']=='Male') | (df['sex']=='Female')]"
   ]
  },
  {
   "cell_type": "markdown",
   "metadata": {},
   "source": [
    "## 6.) Age Group"
   ]
  },
  {
   "cell_type": "code",
   "execution_count": 7,
   "metadata": {},
   "outputs": [
    {
     "data": {
      "text/plain": [
       "20 - 29 Years    1061612\n",
       "30 - 39 Years     892261\n",
       "40 - 49 Years     825126\n",
       "50 - 59 Years     795847\n",
       "60 - 69 Years     558252\n",
       "10 - 19 Years     500816\n",
       "70 - 79 Years     318515\n",
       "80+ Years         269990\n",
       "0 - 9 Years       174170\n",
       "Unknown             4781\n",
       "Name: age_group, dtype: int64"
      ]
     },
     "execution_count": 7,
     "metadata": {},
     "output_type": "execute_result"
    }
   ],
   "source": [
    "df['age_group'].value_counts()"
   ]
  },
  {
   "cell_type": "markdown",
   "metadata": {},
   "source": [
    "We will discard the unknown ages because we do not know what they are and they will have minimal impact on our model."
   ]
  },
  {
   "cell_type": "code",
   "execution_count": 8,
   "metadata": {},
   "outputs": [],
   "source": [
    "index_names = df[df['age_group'] == 'Unknown'].index \n",
    "df = df.drop(index_names)"
   ]
  },
  {
   "cell_type": "markdown",
   "metadata": {},
   "source": [
    "## 7.) Race and Ethnicity"
   ]
  },
  {
   "cell_type": "code",
   "execution_count": 9,
   "metadata": {},
   "outputs": [
    {
     "data": {
      "text/plain": [
       "Unknown                                                 2124552\n",
       "White, Non-Hispanic                                     1493986\n",
       "Hispanic/Latino                                          900242\n",
       "Black, Non-Hispanic                                      566148\n",
       "Multiple/Other, Non-Hispanic                             161983\n",
       "Asian, Non-Hispanic                                       97695\n",
       "American Indian/Alaska Native, Non-Hispanic               40186\n",
       "Native Hawaiian/Other Pacific Islander, Non-Hispanic      11797\n",
       "Name: Race and ethnicity (combined), dtype: int64"
      ]
     },
     "execution_count": 9,
     "metadata": {},
     "output_type": "execute_result"
    }
   ],
   "source": [
    "df['Race and ethnicity (combined)'].value_counts()"
   ]
  },
  {
   "cell_type": "markdown",
   "metadata": {},
   "source": [
    "Since we would like to test ethnicity in our model, we will have to discard the 2.2 million results of unknown ethnicity :(."
   ]
  },
  {
   "cell_type": "code",
   "execution_count": 10,
   "metadata": {},
   "outputs": [],
   "source": [
    "index_names = df[df['Race and ethnicity (combined)'] == 'Unknown'].index \n",
    "df = df.drop(index_names)"
   ]
  },
  {
   "cell_type": "markdown",
   "metadata": {},
   "source": [
    "## 8.) Hospitalization Status"
   ]
  },
  {
   "cell_type": "code",
   "execution_count": 11,
   "metadata": {},
   "outputs": [
    {
     "data": {
      "text/plain": [
       "No         1794970\n",
       "Missing     859217\n",
       "Yes         346667\n",
       "Unknown     271183\n",
       "Name: hosp_yn, dtype: int64"
      ]
     },
     "execution_count": 11,
     "metadata": {},
     "output_type": "execute_result"
    }
   ],
   "source": [
    "df['hosp_yn'].value_counts()"
   ]
  },
  {
   "cell_type": "markdown",
   "metadata": {},
   "source": [
    "Since we would like to include hospitilization in our model, we can only keep the yes or no statuses."
   ]
  },
  {
   "cell_type": "code",
   "execution_count": 12,
   "metadata": {},
   "outputs": [],
   "source": [
    "df = df[(df['hosp_yn']=='Yes') | (df['hosp_yn']=='No')]"
   ]
  },
  {
   "cell_type": "markdown",
   "metadata": {},
   "source": [
    "## 9.) ICU Admission Status"
   ]
  },
  {
   "cell_type": "code",
   "execution_count": 13,
   "metadata": {},
   "outputs": [
    {
     "data": {
      "text/plain": [
       "Missing    1273832\n",
       "No          483019\n",
       "Unknown     340659\n",
       "Yes          44127\n",
       "Name: icu_yn, dtype: int64"
      ]
     },
     "execution_count": 13,
     "metadata": {},
     "output_type": "execute_result"
    }
   ],
   "source": [
    "df['icu_yn'].value_counts()"
   ]
  },
  {
   "cell_type": "markdown",
   "metadata": {},
   "source": [
    "Unfortunately, we have to disclude the missing and unknown statuses since we are including them in our model. This (as well as the other responses) makes me question the integrity of the data."
   ]
  },
  {
   "cell_type": "code",
   "execution_count": 14,
   "metadata": {},
   "outputs": [],
   "source": [
    "df = df[(df['icu_yn']=='Yes') | (df['icu_yn']=='No')]"
   ]
  },
  {
   "cell_type": "markdown",
   "metadata": {},
   "source": [
    "## 10 - 11.) Death Status and Comorbidity\n",
    "\n",
    "Again, we will only include data that is known."
   ]
  },
  {
   "cell_type": "code",
   "execution_count": 15,
   "metadata": {},
   "outputs": [
    {
     "name": "stdout",
     "output_type": "stream",
     "text": [
      "No         389446\n",
      "Unknown     77971\n",
      "Yes         32419\n",
      "Missing     27310\n",
      "Name: death_yn, dtype: int64\n",
      "\n",
      "\n",
      "Yes        222153\n",
      "No         160577\n",
      "Missing    129481\n",
      "Unknown     14935\n",
      "Name: medcond_yn, dtype: int64\n"
     ]
    }
   ],
   "source": [
    "print(df['death_yn'].value_counts())\n",
    "print('\\n')\n",
    "print(df['medcond_yn'].value_counts())"
   ]
  },
  {
   "cell_type": "code",
   "execution_count": 16,
   "metadata": {},
   "outputs": [],
   "source": [
    "df = df[(df['death_yn']=='Yes') | (df['death_yn']=='No')]\n",
    "df = df[(df['medcond_yn']=='Yes') | (df['medcond_yn']=='No')]"
   ]
  },
  {
   "cell_type": "markdown",
   "metadata": {},
   "source": [
    "We are left with the following dimensions:"
   ]
  },
  {
   "cell_type": "code",
   "execution_count": 17,
   "metadata": {},
   "outputs": [
    {
     "data": {
      "text/plain": [
       "(328977, 8)"
      ]
     },
     "execution_count": 17,
     "metadata": {},
     "output_type": "execute_result"
    }
   ],
   "source": [
    "df.shape"
   ]
  },
  {
   "cell_type": "markdown",
   "metadata": {},
   "source": [
    "Roughly 330,000 cases is not a small number. It sure does show how effective record keeping can go a long way based on our 5.6 million that we started with."
   ]
  },
  {
   "cell_type": "markdown",
   "metadata": {},
   "source": [
    "## Subsetting for regressor and response\n",
    "\n",
    "Since we are interested in the morbidity, our response variable will be death. The regressors will all be dummy variables because they are all categorical.  Both will be written as csv files."
   ]
  },
  {
   "cell_type": "code",
   "execution_count": 18,
   "metadata": {},
   "outputs": [],
   "source": [
    "#Response\n",
    "Y = df['death_yn']\n",
    "Y[Y=='Yes']= 1\n",
    "Y[Y=='No'] = 0\n",
    "Y = Y.astype(int)\n",
    "\n",
    "#Regressors\n",
    "X = df.drop(['death_yn'], axis = 1)\n",
    "X_cat = X\n",
    "X = pd.get_dummies(X)\n",
    "\n",
    "#Writing Files\n",
    "X.to_csv('../data/processed/X.csv', index = False)\n",
    "X_cat.to_csv('../data/processed/X.csv', index = False)\n",
    "Y.to_csv('../data/processed/Y.csv', index = False)"
   ]
  }
 ],
 "metadata": {
  "kernelspec": {
   "display_name": "Python 3",
   "language": "python",
   "name": "python3"
  },
  "language_info": {
   "codemirror_mode": {
    "name": "ipython",
    "version": 3
   },
   "file_extension": ".py",
   "mimetype": "text/x-python",
   "name": "python",
   "nbconvert_exporter": "python",
   "pygments_lexer": "ipython3",
   "version": "3.8.3"
  }
 },
 "nbformat": 4,
 "nbformat_minor": 4
}
