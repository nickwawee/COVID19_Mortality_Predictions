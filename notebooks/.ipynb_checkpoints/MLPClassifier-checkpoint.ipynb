{
 "cells": [
  {
   "cell_type": "code",
   "execution_count": 54,
   "metadata": {},
   "outputs": [],
   "source": [
    "import pandas as pd\n",
    "import seaborn as sns\n",
    "import matplotlib.pyplot as plt\n",
    "import numpy as np\n",
    "\n",
    "from sklearn.neural_network import MLPClassifier\n",
    "from sklearn import preprocessing\n",
    "from sklearn.model_selection import StratifiedKFold, GridSearchCV, train_test_split\n",
    "from sklearn.metrics import classification_report, auc, roc_auc_score, confusion_matrix, accuracy_score, f1_score, matthews_corrcoef, roc_curve"
   ]
  },
  {
   "cell_type": "code",
   "execution_count": 55,
   "metadata": {},
   "outputs": [],
   "source": [
    "# Read the cleaned data into a dataframe\n",
    "X = pd.read_csv(\"../data/processed/X.csv\")\n",
    "y = pd.read_csv(\"../data/processed/Y.csv\")"
   ]
  },
  {
   "cell_type": "code",
   "execution_count": 5,
   "metadata": {},
   "outputs": [
    {
     "data": {
      "text/plain": [
       "(328977, 25)"
      ]
     },
     "execution_count": 5,
     "metadata": {},
     "output_type": "execute_result"
    }
   ],
   "source": [
    "X.shape"
   ]
  },
  {
   "cell_type": "code",
   "execution_count": 11,
   "metadata": {},
   "outputs": [
    {
     "name": "stdout",
     "output_type": "stream",
     "text": [
      "Fitting 5 folds for each of 108 candidates, totalling 540 fits\n"
     ]
    },
    {
     "name": "stderr",
     "output_type": "stream",
     "text": [
      "[Parallel(n_jobs=1)]: Using backend SequentialBackend with 1 concurrent workers.\n",
      "[Parallel(n_jobs=1)]: Done 540 out of 540 | elapsed: 304.4min finished\n"
     ]
    },
    {
     "data": {
      "text/plain": [
       "GridSearchCV(cv=5, estimator=MLPClassifier(),\n",
       "             param_grid=[{'activation': ['identity', 'logistic', 'tanh',\n",
       "                                         'relu'],\n",
       "                          'alpha': [1e-05, 0.0001, 0.001],\n",
       "                          'hidden_layer_sizes': [(3,), (5,), (7,)],\n",
       "                          'learning_rate': ['constant', 'invscaling',\n",
       "                                            'adaptive'],\n",
       "                          'solver': ['sgd']}],\n",
       "             verbose=1)"
      ]
     },
     "execution_count": 11,
     "metadata": {},
     "output_type": "execute_result"
    }
   ],
   "source": [
    "parameters = [{\n",
    "                'hidden_layer_sizes': [(3,),(5,),(7,)],\n",
    "                'activation': ['identity', 'logistic', 'tanh', 'relu'],\n",
    "                'solver':['adam'], 'alpha':[0.00001, 0.0001, 0.001],\n",
    "                'learning_rate':['constant', 'invscaling', 'adaptive']\n",
    "             }]\n",
    "\n",
    "xTrain, xTest, yTrain, yTest = train_test_split(X, y)\n",
    "\n",
    "clf = GridSearchCV(MLPClassifier(), parameters, cv=5, verbose=1)\n",
    "clf.fit(xTrain, yTrain.values.ravel())"
   ]
  },
  {
   "cell_type": "code",
   "execution_count": 12,
   "metadata": {},
   "outputs": [
    {
     "data": {
      "text/plain": [
       "{'activation': 'tanh',\n",
       " 'alpha': 0.001,\n",
       " 'hidden_layer_sizes': (5,),\n",
       " 'learning_rate': 'adaptive',\n",
       " 'solver': 'sgd'}"
      ]
     },
     "execution_count": 12,
     "metadata": {},
     "output_type": "execute_result"
    }
   ],
   "source": [
    "clf.best_params_"
   ]
  },
  {
   "cell_type": "code",
   "execution_count": 16,
   "metadata": {},
   "outputs": [
    {
     "data": {
      "text/plain": [
       "0.9398253957188316"
      ]
     },
     "execution_count": 16,
     "metadata": {},
     "output_type": "execute_result"
    }
   ],
   "source": [
    "clf.best_score_"
   ]
  },
  {
   "cell_type": "code",
   "execution_count": 17,
   "metadata": {},
   "outputs": [
    {
     "data": {
      "text/plain": [
       "5"
      ]
     },
     "execution_count": 17,
     "metadata": {},
     "output_type": "execute_result"
    }
   ],
   "source": [
    "clf.n_splits_"
   ]
  },
  {
   "cell_type": "code",
   "execution_count": 18,
   "metadata": {},
   "outputs": [],
   "source": [
    "yPred = clf.predict(xTest)"
   ]
  },
  {
   "cell_type": "code",
   "execution_count": 51,
   "metadata": {},
   "outputs": [
    {
     "name": "stdout",
     "output_type": "stream",
     "text": [
      "              precision    recall  f1-score   support\n",
      "\n",
      "           0       0.96      0.97      0.97     75442\n",
      "           1       0.64      0.59      0.61      6803\n",
      "\n",
      "    accuracy                           0.94     82245\n",
      "   macro avg       0.80      0.78      0.79     82245\n",
      "weighted avg       0.94      0.94      0.94     82245\n",
      "\n"
     ]
    }
   ],
   "source": [
    "MLP_Metrics = classification_report(yTest, yPred)\n",
    "print(MLP_Metrics)\n",
    "\n",
    "# Save this information to a text file, just in case\n",
    "with open(\"../plots/MLPClassifier_Info.txt\", \"w\") as text_file:\n",
    "    print(\"Best Parameters:\\n{}\\n\\nMLPClassifier Metrics:\\n{}\".format(clf.best_params_, MLP_Metrics), file=text_file)"
   ]
  },
  {
   "cell_type": "markdown",
   "metadata": {},
   "source": [
    "### Re-run using the best parameters\n",
    "Correct parameters found in Project.ipynb\n",
    "\n",
    "This is run using 5 Stratified K-Folds and records the metrics so that we can plot them"
   ]
  },
  {
   "cell_type": "code",
   "execution_count": 61,
   "metadata": {},
   "outputs": [
    {
     "data": {
      "image/png": "[encoded data removed]",
      "text/plain": [
       "<Figure size 432x288 with 1 Axes>"
      ]
     },
     "metadata": {
      "needs_background": "light"
     },
     "output_type": "display_data"
    }
   ],
   "source": [
    "from numpy import interp\n",
    "\n",
    "skf = StratifiedKFold(n_splits=10)\n",
    "\n",
    "tprs = []\n",
    "aucs = []\n",
    "mean_fpr = np.linspace(0, 1, 100)\n",
    "acc = []\n",
    "f1 = []\n",
    "mcc = []\n",
    "cm = []\n",
    "input_weight_df = pd.DataFrame()\n",
    "metric_reports = pd.DataFrame()\n",
    "i =1\n",
    "\n",
    "for trainIndex, textIndex in skf.split(X, y):\n",
    "    xTrain, xTest = X.iloc[trainIndex], X.iloc[textIndex]\n",
    "    yTrain, yTest = y.iloc[trainIndex], y.iloc[textIndex]\n",
    "\n",
    "    clf = MLPClassifier(hidden_layer_sizes=(7,), activation='tanh', solver='adam', alpha=0.001, learning_rate = 'adaptive')\n",
    "    clf.fit(xTrain, yTrain.values.ravel())  \n",
    "\n",
    "    yPred = clf.predict(xTest)\n",
    "\n",
    "    # All Scores\n",
    "    acc.append(accuracy_score(yTest, yPred))\n",
    "    f1.append(f1_score(yPred,yTest))\n",
    "    mcc.append(matthews_corrcoef(yTest, yPred))\n",
    "    cm.append(confusion_matrix(yTest,yPred))\n",
    "    \n",
    "    #Classification reports\n",
    "    rpt = pd.DataFrame(classification_report(yTest, yPred,  output_dict=True)).transpose()\n",
    "    rpt['Fold'] = i\n",
    "    metric_reports = metric_reports.append(rpt)\n",
    "    \n",
    "    # Input Layer Weights\n",
    "    for j in range(len(clf.coefs_[0])):\n",
    "        input_weight_df.loc[str(X.columns[j]),\"Fold {}\".format(i)] = clf.coefs_[0][j][0]\n",
    "\n",
    "\n",
    "    # ROC Curve\n",
    "    fpr, tpr, thresholds = roc_curve(yTest, yPred)\n",
    "    tprs.append(interp(mean_fpr, fpr, tpr))\n",
    "    tprs[-1][0] = 0.0\n",
    "    roc_auc = auc(fpr, tpr)\n",
    "    aucs.append(roc_auc)\n",
    "    plt.plot(fpr, tpr, lw=1, alpha=0.3,\n",
    "             label='ROC fold %d (AUC = %0.2f)' % (i, roc_auc))\n",
    "    i = i+1"
   ]
  },
  {
   "cell_type": "markdown",
   "metadata": {},
   "source": [
    "### Plot results"
   ]
  },
  {
   "cell_type": "code",
   "execution_count": 58,
   "metadata": {},
   "outputs": [
    {
     "data": {
      "image/png": "[encoded data removed]",
      "text/plain": [
       "<Figure size 432x288 with 1 Axes>"
      ]
     },
     "metadata": {
      "needs_background": "light"
     },
     "output_type": "display_data"
    },
    {
     "data": {
      "image/png": "[encoded data removed]",
      "text/plain": [
       "<Figure size 432x288 with 1 Axes>"
      ]
     },
     "metadata": {
      "needs_background": "light"
     },
     "output_type": "display_data"
    },
    {
     "data": {
      "image/png": "[encoded data removed]",
      "text/plain": [
       "<Figure size 432x288 with 1 Axes>"
      ]
     },
     "metadata": {
      "needs_background": "light"
     },
     "output_type": "display_data"
    },
    {
     "data": {
      "text/html": [
       "<div>\n",
       "<style scoped>\n",
       "    .dataframe tbody tr th:only-of-type {\n",
       "        vertical-align: middle;\n",
       "    }\n",
       "\n",
       "    .dataframe tbody tr th {\n",
       "        vertical-align: top;\n",
       "    }\n",
       "\n",
       "    .dataframe thead th {\n",
       "        text-align: right;\n",
       "    }\n",
       "</style>\n",
       "<table border=\"1\" class=\"dataframe\">\n",
       "  <thead>\n",
       "    <tr style=\"text-align: right;\">\n",
       "      <th></th>\n",
       "      <th>precision</th>\n",
       "      <th>recall</th>\n",
       "      <th>f1-score</th>\n",
       "      <th>support</th>\n",
       "    </tr>\n",
       "  </thead>\n",
       "  <tbody>\n",
       "    <tr>\n",
       "      <th>0</th>\n",
       "      <td>0.9588 ± 0.017</td>\n",
       "      <td>0.9668 ± 0.0329</td>\n",
       "      <td>0.9623 ± 0.0104</td>\n",
       "      <td>60405.0 ± 0.0</td>\n",
       "    </tr>\n",
       "    <tr>\n",
       "      <th>1</th>\n",
       "      <td>0.6794 ± 0.1914</td>\n",
       "      <td>0.5264 ± 0.2176</td>\n",
       "      <td>0.5365 ± 0.1295</td>\n",
       "      <td>5390.4 ± 0.5477</td>\n",
       "    </tr>\n",
       "    <tr>\n",
       "      <th>accuracy</th>\n",
       "      <td>0.9307 ± 0.0174</td>\n",
       "      <td>0.9307 ± 0.0174</td>\n",
       "      <td>0.9307 ± 0.0174</td>\n",
       "      <td>0.9307 ± 0.0174</td>\n",
       "    </tr>\n",
       "    <tr>\n",
       "      <th>macro avg</th>\n",
       "      <td>0.8191 ± 0.0881</td>\n",
       "      <td>0.7466 ± 0.095</td>\n",
       "      <td>0.7494 ± 0.0652</td>\n",
       "      <td>65795.4 ± 0.5477</td>\n",
       "    </tr>\n",
       "    <tr>\n",
       "      <th>weighted avg</th>\n",
       "      <td>0.9359 ± 0.007</td>\n",
       "      <td>0.9307 ± 0.0174</td>\n",
       "      <td>0.9274 ± 0.0146</td>\n",
       "      <td>65795.4 ± 0.5477</td>\n",
       "    </tr>\n",
       "  </tbody>\n",
       "</table>\n",
       "</div>"
      ],
      "text/plain": [
       "                    precision           recall         f1-score  \\\n",
       "0              0.9588 ± 0.017  0.9668 ± 0.0329  0.9623 ± 0.0104   \n",
       "1             0.6794 ± 0.1914  0.5264 ± 0.2176  0.5365 ± 0.1295   \n",
       "accuracy      0.9307 ± 0.0174  0.9307 ± 0.0174  0.9307 ± 0.0174   \n",
       "macro avg     0.8191 ± 0.0881   0.7466 ± 0.095  0.7494 ± 0.0652   \n",
       "weighted avg   0.9359 ± 0.007  0.9307 ± 0.0174  0.9274 ± 0.0146   \n",
       "\n",
       "                       support  \n",
       "0                60405.0 ± 0.0  \n",
       "1              5390.4 ± 0.5477  \n",
       "accuracy       0.9307 ± 0.0174  \n",
       "macro avg     65795.4 ± 0.5477  \n",
       "weighted avg  65795.4 ± 0.5477  "
      ]
     },
     "execution_count": 58,
     "metadata": {},
     "output_type": "execute_result"
    }
   ],
   "source": [
    "# Plot the ROC and AUCs of each Fold\n",
    "plt.plot([0, 1], [0, 1], linestyle='--', lw=2, color='r', label='Chance', alpha=.8)\n",
    "\n",
    "mean_tpr = np.mean(tprs, axis=0)\n",
    "mean_tpr[-1] = 1.0\n",
    "mean_auc = auc(mean_fpr, mean_tpr)\n",
    "std_auc = np.std(aucs)\n",
    "plt.plot(mean_fpr, mean_tpr, color='b',\n",
    "         label=r'Mean (AUC = %0.2f $\\pm$ %0.2f)' % (mean_auc, std_auc),\n",
    "         lw=2, alpha=.8)\n",
    "\n",
    "std_tpr = np.std(tprs, axis=0)\n",
    "tprs_upper = np.minimum(mean_tpr + std_tpr, 1)\n",
    "tprs_lower = np.maximum(mean_tpr - std_tpr, 0)\n",
    "plt.fill_between(mean_fpr, tprs_lower, tprs_upper, color='grey', alpha=.2,\n",
    "                 label=r'$\\pm$ 1 std. dev.')\n",
    "\n",
    "plt.xlim([-0.05, 1.05])\n",
    "plt.ylim([-0.05, 1.05])\n",
    "plt.xlabel('False Positive Rate')\n",
    "plt.ylabel('True Positive Rate')\n",
    "plt.title('MLP Receiver Operating Characteristic')\n",
    "plt.legend(loc=\"lower right\")\n",
    "plt.show()\n",
    "  \n",
    "\n",
    "# Add each fold's results to get the combined Confusion Matrix\n",
    "tp = fp = fn = tn = 0\n",
    "for m in cm:\n",
    "    tp += m[0][0]\n",
    "    fp += m[0][1]\n",
    "    \n",
    "    fn += m[1][0]\n",
    "    tn += m[1][1]\n",
    "    \n",
    "finalCM = [[tp, fp], [fn, tn]]\n",
    "\n",
    "# Show the confusion matrix\n",
    "ax = sns.heatmap(finalCM, annot=True, cbar=False, fmt='g')\n",
    "bottom, top = ax.get_ylim()\n",
    "ax.set_ylim(bottom + 0.5, top - 0.5)\n",
    "plt.ylabel('True Label')\n",
    "plt.xlabel('Predicted Label')\n",
    "plt.title('Combined Confusion Matrix')\n",
    "plt.show()\n",
    "\n",
    "input_weight_df.transpose()\n",
    "avg_weights = pd.DataFrame(input_weight_df.transpose().mean(), columns = [\"Input Layer Weight\"])\n",
    "avg_weights[\"std deviation\"] = input_weight_df.transpose().std()\n",
    "\n",
    "compare_names = pd.DataFrame()\n",
    "compare_names[\"Before\"] = avg_weights.index\n",
    "\n",
    "# Rename to make it easier to read\n",
    "avg_weights.index = ['Lab-confirmed case', 'Female', 'Male',\\\n",
    "       '0 - 9 Years', '10 - 19 Years',\\\n",
    "       '20 - 29 Years', '30 - 39 Years',\\\n",
    "       '40 - 49 Years', '50 - 59 Years',\\\n",
    "       '60 - 69 Years', '70 - 79 Years',\\\n",
    "       '80+ Years',\\\n",
    "       'American Indn./AK Nat.',\\\n",
    "       'Asian',\\\n",
    "       'Black',\\\n",
    "       'Hispanic/Latino',\\\n",
    "       'Multiple/Other',\\\n",
    "       'Nat. HI/Other Pac. Isl.',\\\n",
    "       'White', 'Hosp_No',\\\n",
    "       'Hosp_Yes', 'ICU_No', 'ICU_Yes', 'Medcond_No',\\\n",
    "       'Medcond_Yes']\n",
    "compare_names[\"After\"] = avg_weights.index\n",
    "# You can run this to easily see that nothing was mis-labeled\n",
    "# print(compare_names, '\\n\\n')\n",
    "\n",
    "# Plot the input layer weights\n",
    "avg_weights = avg_weights.sort_values('Input Layer Weight')\n",
    "plt.bar(avg_weights.index, avg_weights.loc[:,'Input Layer Weight'], yerr=avg_weights.loc[:,\"std deviation\"], ecolor='black', align='center')\n",
    "plt.ylabel('Input Layer Weights')\n",
    "plt.xticks(rotation=90)\n",
    "plt.savefig('../plots/MLP_ILayerWeights')\n",
    "plt.title(\"MLP Input Weights\")\n",
    "plt.show()\n",
    "\n",
    "\n",
    "# Plot the average from the metric reports\n",
    "meandf_c = metric_reports.groupby(metric_reports.index).mean()\n",
    "sddf_c = metric_reports.groupby(metric_reports.index).std()\n",
    "\n",
    "resdf_c = round(meandf_c.loc[:,'precision':'support'],4).astype(str)+ \" ± \"+\\\n",
    "    round(sddf_c.loc[:,'precision':'support'],4).astype(str)\n",
    "resdf_c"
   ]
  },
  {
   "cell_type": "code",
   "execution_count": 60,
   "metadata": {},
   "outputs": [
    {
     "data": {
      "text/html": [
       "<div>\n",
       "<style scoped>\n",
       "    .dataframe tbody tr th:only-of-type {\n",
       "        vertical-align: middle;\n",
       "    }\n",
       "\n",
       "    .dataframe tbody tr th {\n",
       "        vertical-align: top;\n",
       "    }\n",
       "\n",
       "    .dataframe thead th {\n",
       "        text-align: right;\n",
       "    }\n",
       "</style>\n",
       "<table border=\"1\" class=\"dataframe\">\n",
       "  <thead>\n",
       "    <tr style=\"text-align: right;\">\n",
       "      <th></th>\n",
       "      <th>Fold 1</th>\n",
       "      <th>Fold 2</th>\n",
       "      <th>Fold 3</th>\n",
       "      <th>Fold 4</th>\n",
       "      <th>Fold 5</th>\n",
       "    </tr>\n",
       "  </thead>\n",
       "  <tbody>\n",
       "    <tr>\n",
       "      <th>current_status_Laboratory-confirmed case</th>\n",
       "      <td>0.109232</td>\n",
       "      <td>-0.037536</td>\n",
       "      <td>0.158661</td>\n",
       "      <td>0.210308</td>\n",
       "      <td>-0.212245</td>\n",
       "    </tr>\n",
       "    <tr>\n",
       "      <th>sex_Female</th>\n",
       "      <td>0.176362</td>\n",
       "      <td>0.019131</td>\n",
       "      <td>0.391711</td>\n",
       "      <td>0.048849</td>\n",
       "      <td>-0.080573</td>\n",
       "    </tr>\n",
       "    <tr>\n",
       "      <th>sex_Male</th>\n",
       "      <td>0.426590</td>\n",
       "      <td>0.004471</td>\n",
       "      <td>-0.014582</td>\n",
       "      <td>-0.332936</td>\n",
       "      <td>0.265823</td>\n",
       "    </tr>\n",
       "    <tr>\n",
       "      <th>age_group_0 - 9 Years</th>\n",
       "      <td>-0.781912</td>\n",
       "      <td>-0.510894</td>\n",
       "      <td>0.327364</td>\n",
       "      <td>0.659822</td>\n",
       "      <td>-0.876019</td>\n",
       "    </tr>\n",
       "    <tr>\n",
       "      <th>age_group_10 - 19 Years</th>\n",
       "      <td>-0.938419</td>\n",
       "      <td>-0.838767</td>\n",
       "      <td>0.331496</td>\n",
       "      <td>0.218470</td>\n",
       "      <td>-0.984679</td>\n",
       "    </tr>\n",
       "    <tr>\n",
       "      <th>age_group_20 - 29 Years</th>\n",
       "      <td>-0.822957</td>\n",
       "      <td>-0.976714</td>\n",
       "      <td>0.426999</td>\n",
       "      <td>-0.191810</td>\n",
       "      <td>-0.736910</td>\n",
       "    </tr>\n",
       "    <tr>\n",
       "      <th>age_group_30 - 39 Years</th>\n",
       "      <td>-0.726693</td>\n",
       "      <td>-0.739024</td>\n",
       "      <td>0.476729</td>\n",
       "      <td>-0.104935</td>\n",
       "      <td>-0.723545</td>\n",
       "    </tr>\n",
       "    <tr>\n",
       "      <th>age_group_40 - 49 Years</th>\n",
       "      <td>-0.694539</td>\n",
       "      <td>-0.901495</td>\n",
       "      <td>-0.108758</td>\n",
       "      <td>0.047791</td>\n",
       "      <td>-0.340059</td>\n",
       "    </tr>\n",
       "    <tr>\n",
       "      <th>age_group_50 - 59 Years</th>\n",
       "      <td>-0.204187</td>\n",
       "      <td>-0.483066</td>\n",
       "      <td>0.374905</td>\n",
       "      <td>0.031991</td>\n",
       "      <td>-0.181202</td>\n",
       "    </tr>\n",
       "    <tr>\n",
       "      <th>age_group_60 - 69 Years</th>\n",
       "      <td>-0.025938</td>\n",
       "      <td>-0.610436</td>\n",
       "      <td>-0.458782</td>\n",
       "      <td>-0.238771</td>\n",
       "      <td>0.289135</td>\n",
       "    </tr>\n",
       "    <tr>\n",
       "      <th>age_group_70 - 79 Years</th>\n",
       "      <td>0.340416</td>\n",
       "      <td>0.617750</td>\n",
       "      <td>-0.004703</td>\n",
       "      <td>-0.208473</td>\n",
       "      <td>0.656573</td>\n",
       "    </tr>\n",
       "    <tr>\n",
       "      <th>age_group_80+ Years</th>\n",
       "      <td>2.153979</td>\n",
       "      <td>1.001380</td>\n",
       "      <td>0.273664</td>\n",
       "      <td>-0.076720</td>\n",
       "      <td>0.902867</td>\n",
       "    </tr>\n",
       "    <tr>\n",
       "      <th>Race and ethnicity (combined)_American Indian/Alaska Native, Non-Hispanic</th>\n",
       "      <td>0.344169</td>\n",
       "      <td>-0.047733</td>\n",
       "      <td>0.120594</td>\n",
       "      <td>-0.135724</td>\n",
       "      <td>0.500130</td>\n",
       "    </tr>\n",
       "    <tr>\n",
       "      <th>Race and ethnicity (combined)_Asian, Non-Hispanic</th>\n",
       "      <td>-0.148040</td>\n",
       "      <td>-0.071720</td>\n",
       "      <td>-0.012369</td>\n",
       "      <td>-0.170383</td>\n",
       "      <td>-0.181220</td>\n",
       "    </tr>\n",
       "    <tr>\n",
       "      <th>Race and ethnicity (combined)_Black, Non-Hispanic</th>\n",
       "      <td>0.262339</td>\n",
       "      <td>-0.213493</td>\n",
       "      <td>0.107268</td>\n",
       "      <td>-0.110409</td>\n",
       "      <td>0.105586</td>\n",
       "    </tr>\n",
       "    <tr>\n",
       "      <th>Race and ethnicity (combined)_Hispanic/Latino</th>\n",
       "      <td>0.065182</td>\n",
       "      <td>-0.676479</td>\n",
       "      <td>0.727095</td>\n",
       "      <td>-0.009017</td>\n",
       "      <td>-0.000297</td>\n",
       "    </tr>\n",
       "    <tr>\n",
       "      <th>Race and ethnicity (combined)_Multiple/Other, Non-Hispanic</th>\n",
       "      <td>0.128757</td>\n",
       "      <td>-0.407284</td>\n",
       "      <td>-0.192920</td>\n",
       "      <td>0.151031</td>\n",
       "      <td>0.092480</td>\n",
       "    </tr>\n",
       "    <tr>\n",
       "      <th>Race and ethnicity (combined)_Native Hawaiian/Other Pacific Islander, Non-Hispanic</th>\n",
       "      <td>0.348380</td>\n",
       "      <td>0.006217</td>\n",
       "      <td>0.478083</td>\n",
       "      <td>-0.269400</td>\n",
       "      <td>-0.176491</td>\n",
       "    </tr>\n",
       "    <tr>\n",
       "      <th>Race and ethnicity (combined)_White, Non-Hispanic</th>\n",
       "      <td>-0.096079</td>\n",
       "      <td>0.059486</td>\n",
       "      <td>0.227931</td>\n",
       "      <td>0.524082</td>\n",
       "      <td>0.079270</td>\n",
       "    </tr>\n",
       "    <tr>\n",
       "      <th>hosp_yn_No</th>\n",
       "      <td>-0.206715</td>\n",
       "      <td>0.108063</td>\n",
       "      <td>0.324389</td>\n",
       "      <td>0.356586</td>\n",
       "      <td>-0.459585</td>\n",
       "    </tr>\n",
       "    <tr>\n",
       "      <th>hosp_yn_Yes</th>\n",
       "      <td>0.738065</td>\n",
       "      <td>-0.135262</td>\n",
       "      <td>-0.062342</td>\n",
       "      <td>0.039937</td>\n",
       "      <td>0.295412</td>\n",
       "    </tr>\n",
       "    <tr>\n",
       "      <th>icu_yn_No</th>\n",
       "      <td>-0.150392</td>\n",
       "      <td>-0.258602</td>\n",
       "      <td>-0.016951</td>\n",
       "      <td>0.209948</td>\n",
       "      <td>-0.087903</td>\n",
       "    </tr>\n",
       "    <tr>\n",
       "      <th>icu_yn_Yes</th>\n",
       "      <td>0.692587</td>\n",
       "      <td>-0.398496</td>\n",
       "      <td>0.082435</td>\n",
       "      <td>-0.166677</td>\n",
       "      <td>0.693527</td>\n",
       "    </tr>\n",
       "    <tr>\n",
       "      <th>medcond_yn_No</th>\n",
       "      <td>-0.422117</td>\n",
       "      <td>-0.108124</td>\n",
       "      <td>0.589724</td>\n",
       "      <td>0.221739</td>\n",
       "      <td>-0.170530</td>\n",
       "    </tr>\n",
       "    <tr>\n",
       "      <th>medcond_yn_Yes</th>\n",
       "      <td>0.318874</td>\n",
       "      <td>-0.080604</td>\n",
       "      <td>0.283324</td>\n",
       "      <td>-0.150125</td>\n",
       "      <td>0.312290</td>\n",
       "    </tr>\n",
       "  </tbody>\n",
       "</table>\n",
       "</div>"
      ],
      "text/plain": [
       "                                                      Fold 1    Fold 2  \\\n",
       "current_status_Laboratory-confirmed case            0.109232 -0.037536   \n",
       "sex_Female                                          0.176362  0.019131   \n",
       "sex_Male                                            0.426590  0.004471   \n",
       "age_group_0 - 9 Years                              -0.781912 -0.510894   \n",
       "age_group_10 - 19 Years                            -0.938419 -0.838767   \n",
       "age_group_20 - 29 Years                            -0.822957 -0.976714   \n",
       "age_group_30 - 39 Years                            -0.726693 -0.739024   \n",
       "age_group_40 - 49 Years                            -0.694539 -0.901495   \n",
       "age_group_50 - 59 Years                            -0.204187 -0.483066   \n",
       "age_group_60 - 69 Years                            -0.025938 -0.610436   \n",
       "age_group_70 - 79 Years                             0.340416  0.617750   \n",
       "age_group_80+ Years                                 2.153979  1.001380   \n",
       "Race and ethnicity (combined)_American Indian/A...  0.344169 -0.047733   \n",
       "Race and ethnicity (combined)_Asian, Non-Hispanic  -0.148040 -0.071720   \n",
       "Race and ethnicity (combined)_Black, Non-Hispanic   0.262339 -0.213493   \n",
       "Race and ethnicity (combined)_Hispanic/Latino       0.065182 -0.676479   \n",
       "Race and ethnicity (combined)_Multiple/Other, N...  0.128757 -0.407284   \n",
       "Race and ethnicity (combined)_Native Hawaiian/O...  0.348380  0.006217   \n",
       "Race and ethnicity (combined)_White, Non-Hispanic  -0.096079  0.059486   \n",
       "hosp_yn_No                                         -0.206715  0.108063   \n",
       "hosp_yn_Yes                                         0.738065 -0.135262   \n",
       "icu_yn_No                                          -0.150392 -0.258602   \n",
       "icu_yn_Yes                                          0.692587 -0.398496   \n",
       "medcond_yn_No                                      -0.422117 -0.108124   \n",
       "medcond_yn_Yes                                      0.318874 -0.080604   \n",
       "\n",
       "                                                      Fold 3    Fold 4  \\\n",
       "current_status_Laboratory-confirmed case            0.158661  0.210308   \n",
       "sex_Female                                          0.391711  0.048849   \n",
       "sex_Male                                           -0.014582 -0.332936   \n",
       "age_group_0 - 9 Years                               0.327364  0.659822   \n",
       "age_group_10 - 19 Years                             0.331496  0.218470   \n",
       "age_group_20 - 29 Years                             0.426999 -0.191810   \n",
       "age_group_30 - 39 Years                             0.476729 -0.104935   \n",
       "age_group_40 - 49 Years                            -0.108758  0.047791   \n",
       "age_group_50 - 59 Years                             0.374905  0.031991   \n",
       "age_group_60 - 69 Years                            -0.458782 -0.238771   \n",
       "age_group_70 - 79 Years                            -0.004703 -0.208473   \n",
       "age_group_80+ Years                                 0.273664 -0.076720   \n",
       "Race and ethnicity (combined)_American Indian/A...  0.120594 -0.135724   \n",
       "Race and ethnicity (combined)_Asian, Non-Hispanic  -0.012369 -0.170383   \n",
       "Race and ethnicity (combined)_Black, Non-Hispanic   0.107268 -0.110409   \n",
       "Race and ethnicity (combined)_Hispanic/Latino       0.727095 -0.009017   \n",
       "Race and ethnicity (combined)_Multiple/Other, N... -0.192920  0.151031   \n",
       "Race and ethnicity (combined)_Native Hawaiian/O...  0.478083 -0.269400   \n",
       "Race and ethnicity (combined)_White, Non-Hispanic   0.227931  0.524082   \n",
       "hosp_yn_No                                          0.324389  0.356586   \n",
       "hosp_yn_Yes                                        -0.062342  0.039937   \n",
       "icu_yn_No                                          -0.016951  0.209948   \n",
       "icu_yn_Yes                                          0.082435 -0.166677   \n",
       "medcond_yn_No                                       0.589724  0.221739   \n",
       "medcond_yn_Yes                                      0.283324 -0.150125   \n",
       "\n",
       "                                                      Fold 5  \n",
       "current_status_Laboratory-confirmed case           -0.212245  \n",
       "sex_Female                                         -0.080573  \n",
       "sex_Male                                            0.265823  \n",
       "age_group_0 - 9 Years                              -0.876019  \n",
       "age_group_10 - 19 Years                            -0.984679  \n",
       "age_group_20 - 29 Years                            -0.736910  \n",
       "age_group_30 - 39 Years                            -0.723545  \n",
       "age_group_40 - 49 Years                            -0.340059  \n",
       "age_group_50 - 59 Years                            -0.181202  \n",
       "age_group_60 - 69 Years                             0.289135  \n",
       "age_group_70 - 79 Years                             0.656573  \n",
       "age_group_80+ Years                                 0.902867  \n",
       "Race and ethnicity (combined)_American Indian/A...  0.500130  \n",
       "Race and ethnicity (combined)_Asian, Non-Hispanic  -0.181220  \n",
       "Race and ethnicity (combined)_Black, Non-Hispanic   0.105586  \n",
       "Race and ethnicity (combined)_Hispanic/Latino      -0.000297  \n",
       "Race and ethnicity (combined)_Multiple/Other, N...  0.092480  \n",
       "Race and ethnicity (combined)_Native Hawaiian/O... -0.176491  \n",
       "Race and ethnicity (combined)_White, Non-Hispanic   0.079270  \n",
       "hosp_yn_No                                         -0.459585  \n",
       "hosp_yn_Yes                                         0.295412  \n",
       "icu_yn_No                                          -0.087903  \n",
       "icu_yn_Yes                                          0.693527  \n",
       "medcond_yn_No                                      -0.170530  \n",
       "medcond_yn_Yes                                      0.312290  "
      ]
     },
     "execution_count": 60,
     "metadata": {},
     "output_type": "execute_result"
    }
   ],
   "source": [
    "input_weight_df"
   ]
  },
  {
   "cell_type": "code",
   "execution_count": null,
   "metadata": {},
   "outputs": [],
   "source": []
  }
 ],
 "metadata": {
  "kernelspec": {
   "display_name": "Python 3",
   "language": "python",
   "name": "python3"
  },
  "language_info": {
   "codemirror_mode": {
    "name": "ipython",
    "version": 3
   },
   "file_extension": ".py",
   "mimetype": "text/x-python",
   "name": "python",
   "nbconvert_exporter": "python",
   "pygments_lexer": "ipython3",
   "version": "3.8.1"
  }
 },
 "nbformat": 4,
 "nbformat_minor": 4
}
