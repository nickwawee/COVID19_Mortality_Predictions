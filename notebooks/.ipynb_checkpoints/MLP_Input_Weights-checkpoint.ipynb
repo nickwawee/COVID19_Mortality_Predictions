{
 "cells": [
  {
   "cell_type": "markdown",
   "metadata": {},
   "source": [
    "### MLP Weights for Feature Importance\n",
    "\n",
    "The following code will extract the input weights on all of our data to find which one is most important from the classifier parameters that were determined to be the best."
   ]
  },
  {
   "cell_type": "code",
   "execution_count": 1,
   "metadata": {},
   "outputs": [],
   "source": [
    "import pandas as pd\n",
    "import seaborn as sns\n",
    "import matplotlib.pyplot as plt\n",
    "import numpy as np\n",
    "\n",
    "from sklearn.neural_network import MLPClassifier\n",
    "from sklearn.model_selection import train_test_split, KFold\n",
    "from sklearn.metrics import classification_report, auc, roc_auc_score"
   ]
  },
  {
   "cell_type": "code",
   "execution_count": 2,
   "metadata": {},
   "outputs": [],
   "source": [
    "# Read the cleaned data into a dataframe\n",
    "X = pd.read_csv(\"../data/processed/X.csv\")\n",
    "y = pd.read_csv(\"../data/processed/Y.csv\")"
   ]
  },
  {
   "cell_type": "code",
   "execution_count": 3,
   "metadata": {},
   "outputs": [],
   "source": [
    "bestmlp = MLPClassifier(hidden_layer_sizes=(7,), activation='tanh', solver='adam', alpha=0.001, learning_rate = 'adaptive',\n",
    "                       random_state=2020)\n",
    "res = bestmlp.fit(X, y.values.ravel())"
   ]
  },
  {
   "cell_type": "code",
   "execution_count": 4,
   "metadata": {},
   "outputs": [],
   "source": [
    "input_weight_df = pd.DataFrame()\n",
    "for i in range(len(res.coefs_[0])):\n",
    "    input_weight_df.loc[str(X.columns[i]),\"Input Layer Weight\"] = res.coefs_[0][i][0]"
   ]
  },
  {
   "cell_type": "code",
   "execution_count": 5,
   "metadata": {},
   "outputs": [
    {
     "data": {
      "text/html": [
       "<div>\n",
       "<style scoped>\n",
       "    .dataframe tbody tr th:only-of-type {\n",
       "        vertical-align: middle;\n",
       "    }\n",
       "\n",
       "    .dataframe tbody tr th {\n",
       "        vertical-align: top;\n",
       "    }\n",
       "\n",
       "    .dataframe thead th {\n",
       "        text-align: right;\n",
       "    }\n",
       "</style>\n",
       "<table border=\"1\" class=\"dataframe\">\n",
       "  <thead>\n",
       "    <tr style=\"text-align: right;\">\n",
       "      <th></th>\n",
       "      <th>Input Layer Weight</th>\n",
       "    </tr>\n",
       "  </thead>\n",
       "  <tbody>\n",
       "    <tr>\n",
       "      <th>current_status_Laboratory-confirmed case</th>\n",
       "      <td>0.457685</td>\n",
       "    </tr>\n",
       "    <tr>\n",
       "      <th>sex_Female</th>\n",
       "      <td>-0.069660</td>\n",
       "    </tr>\n",
       "    <tr>\n",
       "      <th>sex_Male</th>\n",
       "      <td>-0.165934</td>\n",
       "    </tr>\n",
       "    <tr>\n",
       "      <th>age_group_0 - 9 Years</th>\n",
       "      <td>-0.570429</td>\n",
       "    </tr>\n",
       "    <tr>\n",
       "      <th>age_group_10 - 19 Years</th>\n",
       "      <td>-0.815546</td>\n",
       "    </tr>\n",
       "    <tr>\n",
       "      <th>age_group_20 - 29 Years</th>\n",
       "      <td>-0.679447</td>\n",
       "    </tr>\n",
       "    <tr>\n",
       "      <th>age_group_30 - 39 Years</th>\n",
       "      <td>-0.436577</td>\n",
       "    </tr>\n",
       "    <tr>\n",
       "      <th>age_group_40 - 49 Years</th>\n",
       "      <td>-0.447137</td>\n",
       "    </tr>\n",
       "    <tr>\n",
       "      <th>age_group_50 - 59 Years</th>\n",
       "      <td>-0.152431</td>\n",
       "    </tr>\n",
       "    <tr>\n",
       "      <th>age_group_60 - 69 Years</th>\n",
       "      <td>0.024489</td>\n",
       "    </tr>\n",
       "    <tr>\n",
       "      <th>age_group_70 - 79 Years</th>\n",
       "      <td>0.273821</td>\n",
       "    </tr>\n",
       "    <tr>\n",
       "      <th>age_group_80+ Years</th>\n",
       "      <td>1.004971</td>\n",
       "    </tr>\n",
       "    <tr>\n",
       "      <th>Race and ethnicity (combined)_American Indian/Alaska Native, Non-Hispanic</th>\n",
       "      <td>0.570514</td>\n",
       "    </tr>\n",
       "    <tr>\n",
       "      <th>Race and ethnicity (combined)_Asian, Non-Hispanic</th>\n",
       "      <td>-0.300567</td>\n",
       "    </tr>\n",
       "    <tr>\n",
       "      <th>Race and ethnicity (combined)_Black, Non-Hispanic</th>\n",
       "      <td>-0.109314</td>\n",
       "    </tr>\n",
       "    <tr>\n",
       "      <th>Race and ethnicity (combined)_Hispanic/Latino</th>\n",
       "      <td>-0.072803</td>\n",
       "    </tr>\n",
       "    <tr>\n",
       "      <th>Race and ethnicity (combined)_Multiple/Other, Non-Hispanic</th>\n",
       "      <td>0.409841</td>\n",
       "    </tr>\n",
       "    <tr>\n",
       "      <th>Race and ethnicity (combined)_Native Hawaiian/Other Pacific Islander, Non-Hispanic</th>\n",
       "      <td>-0.212407</td>\n",
       "    </tr>\n",
       "    <tr>\n",
       "      <th>Race and ethnicity (combined)_White, Non-Hispanic</th>\n",
       "      <td>-0.137689</td>\n",
       "    </tr>\n",
       "    <tr>\n",
       "      <th>hosp_yn_No</th>\n",
       "      <td>-0.488958</td>\n",
       "    </tr>\n",
       "    <tr>\n",
       "      <th>hosp_yn_Yes</th>\n",
       "      <td>0.615130</td>\n",
       "    </tr>\n",
       "    <tr>\n",
       "      <th>icu_yn_No</th>\n",
       "      <td>-0.120114</td>\n",
       "    </tr>\n",
       "    <tr>\n",
       "      <th>icu_yn_Yes</th>\n",
       "      <td>0.420937</td>\n",
       "    </tr>\n",
       "    <tr>\n",
       "      <th>medcond_yn_No</th>\n",
       "      <td>-0.087402</td>\n",
       "    </tr>\n",
       "    <tr>\n",
       "      <th>medcond_yn_Yes</th>\n",
       "      <td>0.019804</td>\n",
       "    </tr>\n",
       "  </tbody>\n",
       "</table>\n",
       "</div>"
      ],
      "text/plain": [
       "                                                    Input Layer Weight\n",
       "current_status_Laboratory-confirmed case                      0.457685\n",
       "sex_Female                                                   -0.069660\n",
       "sex_Male                                                     -0.165934\n",
       "age_group_0 - 9 Years                                        -0.570429\n",
       "age_group_10 - 19 Years                                      -0.815546\n",
       "age_group_20 - 29 Years                                      -0.679447\n",
       "age_group_30 - 39 Years                                      -0.436577\n",
       "age_group_40 - 49 Years                                      -0.447137\n",
       "age_group_50 - 59 Years                                      -0.152431\n",
       "age_group_60 - 69 Years                                       0.024489\n",
       "age_group_70 - 79 Years                                       0.273821\n",
       "age_group_80+ Years                                           1.004971\n",
       "Race and ethnicity (combined)_American Indian/A...            0.570514\n",
       "Race and ethnicity (combined)_Asian, Non-Hispanic            -0.300567\n",
       "Race and ethnicity (combined)_Black, Non-Hispanic            -0.109314\n",
       "Race and ethnicity (combined)_Hispanic/Latino                -0.072803\n",
       "Race and ethnicity (combined)_Multiple/Other, N...            0.409841\n",
       "Race and ethnicity (combined)_Native Hawaiian/O...           -0.212407\n",
       "Race and ethnicity (combined)_White, Non-Hispanic            -0.137689\n",
       "hosp_yn_No                                                   -0.488958\n",
       "hosp_yn_Yes                                                   0.615130\n",
       "icu_yn_No                                                    -0.120114\n",
       "icu_yn_Yes                                                    0.420937\n",
       "medcond_yn_No                                                -0.087402\n",
       "medcond_yn_Yes                                                0.019804"
      ]
     },
     "execution_count": 5,
     "metadata": {},
     "output_type": "execute_result"
    }
   ],
   "source": [
    "input_weight_df"
   ]
  },
  {
   "cell_type": "code",
   "execution_count": 6,
   "metadata": {},
   "outputs": [],
   "source": [
    "input_weight_df.index = ['Lab-confirmed case', 'Female', 'Male',\\\n",
    "       '0 - 9 Years', '10 - 19 Years',\\\n",
    "       '20 - 29 Years', '30 - 39 Years',\\\n",
    "       '40 - 49 Years', '50 - 59 Years',\\\n",
    "       '60 - 69 Years', '70 - 79 Years',\\\n",
    "       '80+ Years',\\\n",
    "       'American Indn./AK Nat.',\\\n",
    "       'Asian',\\\n",
    "       'Black',\\\n",
    "       'Hispanic/Latino',\\\n",
    "       'Multiple/Other',\\\n",
    "       'Nat. HI/Other Pac. Isl.',\\\n",
    "       'White', 'Hosp_No',\\\n",
    "       'Hosp_Yes', 'ICU_No', 'ICU_Yes', 'Medcond_No',\\\n",
    "       'Medcond_Yes']\n"
   ]
  },
  {
   "cell_type": "code",
   "execution_count": 7,
   "metadata": {},
   "outputs": [
    {
     "data": {
      "image/png": "[encoded data removed]",
      "text/plain": [
       "<Figure size 432x288 with 1 Axes>"
      ]
     },
     "metadata": {
      "needs_background": "light"
     },
     "output_type": "display_data"
    },
    {
     "data": {
      "text/plain": [
       "<Figure size 432x288 with 0 Axes>"
      ]
     },
     "metadata": {},
     "output_type": "display_data"
    }
   ],
   "source": [
    "input_weight_df = input_weight_df.sort_values('Input Layer Weight')\n",
    "plt.bar(input_weight_df.index, input_weight_df.loc[:,'Input Layer Weight'], ecolor='black', align='center')\n",
    "plt.ylabel('Input Layer Weight')\n",
    "plt.xticks(rotation=90)\n",
    "plt.show()\n",
    "plt.savefig('../plots/MLP_ILayerWeights')"
   ]
  },
  {
   "cell_type": "markdown",
   "metadata": {},
   "source": [
    "### MLP Kfold"
   ]
  },
  {
   "cell_type": "code",
   "execution_count": 8,
   "metadata": {},
   "outputs": [],
   "source": [
    "kf = KFold(5)\n",
    "\n",
    "i=1\n",
    "dfa = pd.DataFrame()\n",
    "\n",
    "aucs = []\n",
    "for trainIndex, textIndex in kf.split(X):\n",
    "    xTrain, xTest = X.iloc[trainIndex], X.iloc[textIndex]\n",
    "    yTrain, yTest = y.iloc[trainIndex], y.iloc[textIndex]\n",
    "    \n",
    "    #Fitting MLP\n",
    "    bestmlp = MLPClassifier(hidden_layer_sizes=(7,), activation='tanh', solver='adam', alpha=0.001, learning_rate = 'adaptive')\n",
    "    res = bestmlp.fit(xTrain, yTrain.values.ravel())\n",
    "    ypred = res.predict(xTest)\n",
    "    \n",
    "    #Finding aucs\n",
    "    aucs.append(roc_auc_score(yTest, ypred))\n",
    "    #Classification df\n",
    "    rpt = pd.DataFrame(classification_report(yTest, ypred,  output_dict=True)).transpose()\n",
    "    rpt['Fold'] = i\n",
    "    dfa = dfa.append(rpt)\n",
    "    \n",
    "    i += 1"
   ]
  },
  {
   "cell_type": "code",
   "execution_count": 9,
   "metadata": {},
   "outputs": [
    {
     "data": {
      "text/html": [
       "<div>\n",
       "<style scoped>\n",
       "    .dataframe tbody tr th:only-of-type {\n",
       "        vertical-align: middle;\n",
       "    }\n",
       "\n",
       "    .dataframe tbody tr th {\n",
       "        vertical-align: top;\n",
       "    }\n",
       "\n",
       "    .dataframe thead th {\n",
       "        text-align: right;\n",
       "    }\n",
       "</style>\n",
       "<table border=\"1\" class=\"dataframe\">\n",
       "  <thead>\n",
       "    <tr style=\"text-align: right;\">\n",
       "      <th></th>\n",
       "      <th>precision</th>\n",
       "      <th>recall</th>\n",
       "      <th>f1-score</th>\n",
       "      <th>support</th>\n",
       "    </tr>\n",
       "  </thead>\n",
       "  <tbody>\n",
       "    <tr>\n",
       "      <th>0</th>\n",
       "      <td>0.9549 ± 0.0334</td>\n",
       "      <td>0.9754 ± 0.0245</td>\n",
       "      <td>0.965 ± 0.0287</td>\n",
       "      <td>60405.0 ± 4117.8777</td>\n",
       "    </tr>\n",
       "    <tr>\n",
       "      <th>1</th>\n",
       "      <td>0.649 ± 0.0518</td>\n",
       "      <td>0.4442 ± 0.1219</td>\n",
       "      <td>0.5196 ± 0.1048</td>\n",
       "      <td>5390.4 ± 4117.7196</td>\n",
       "    </tr>\n",
       "    <tr>\n",
       "      <th>accuracy</th>\n",
       "      <td>0.9377 ± 0.0472</td>\n",
       "      <td>0.9377 ± 0.0472</td>\n",
       "      <td>0.9377 ± 0.0472</td>\n",
       "      <td>0.9377 ± 0.0472</td>\n",
       "    </tr>\n",
       "    <tr>\n",
       "      <th>macro avg</th>\n",
       "      <td>0.8019 ± 0.0259</td>\n",
       "      <td>0.7098 ± 0.0534</td>\n",
       "      <td>0.7423 ± 0.0441</td>\n",
       "      <td>65795.4 ± 0.5477</td>\n",
       "    </tr>\n",
       "    <tr>\n",
       "      <th>weighted avg</th>\n",
       "      <td>0.9323 ± 0.049</td>\n",
       "      <td>0.9377 ± 0.0472</td>\n",
       "      <td>0.9338 ± 0.0482</td>\n",
       "      <td>65795.4 ± 0.5477</td>\n",
       "    </tr>\n",
       "  </tbody>\n",
       "</table>\n",
       "</div>"
      ],
      "text/plain": [
       "                    precision           recall         f1-score  \\\n",
       "0             0.9549 ± 0.0334  0.9754 ± 0.0245   0.965 ± 0.0287   \n",
       "1              0.649 ± 0.0518  0.4442 ± 0.1219  0.5196 ± 0.1048   \n",
       "accuracy      0.9377 ± 0.0472  0.9377 ± 0.0472  0.9377 ± 0.0472   \n",
       "macro avg     0.8019 ± 0.0259  0.7098 ± 0.0534  0.7423 ± 0.0441   \n",
       "weighted avg   0.9323 ± 0.049  0.9377 ± 0.0472  0.9338 ± 0.0482   \n",
       "\n",
       "                          support  \n",
       "0             60405.0 ± 4117.8777  \n",
       "1              5390.4 ± 4117.7196  \n",
       "accuracy          0.9377 ± 0.0472  \n",
       "macro avg        65795.4 ± 0.5477  \n",
       "weighted avg     65795.4 ± 0.5477  "
      ]
     },
     "execution_count": 9,
     "metadata": {},
     "output_type": "execute_result"
    }
   ],
   "source": [
    "meandf_c = dfa.groupby(dfa.index).mean()\n",
    "sddf_c = dfa.groupby(dfa.index).std()\n",
    "dfa\n",
    "\n",
    "\n",
    "resdf_c = round(meandf_c.loc[:,'precision':'support'],4).astype(str)+ \" ± \"+\\\n",
    "round(sddf_c.loc[:,'precision':'support'],4).astype(str)\n",
    "resdf_c"
   ]
  },
  {
   "cell_type": "code",
   "execution_count": 10,
   "metadata": {},
   "outputs": [],
   "source": [
    "f1s = []\n",
    "precisions = []\n",
    "recalls = []\n",
    "accuracys = []\n",
    "for fold in dfa['Fold'].unique():\n",
    "    f1df = dfa.loc[dfa['Fold']==fold]\n",
    "    f1s.append(f1df.loc['macro avg', 'f1-score'])\n",
    "    precisions.append(f1df.loc['macro avg', 'precision'])\n",
    "    recalls.append(f1df.loc['macro avg', 'recall'])\n",
    "    accuracys.append(f1df.loc['accuracy', 'recall'])"
   ]
  },
  {
   "cell_type": "code",
   "execution_count": 11,
   "metadata": {},
   "outputs": [
    {
     "name": "stdout",
     "output_type": "stream",
     "text": [
      "F1 Scores: 0.7423 ± 0.0394\n",
      "Precision: 0.8019 ± 0.0231\n",
      "Recall: 0.7098 ± 0.0478\n",
      "Accuracy: 0.9377 ± 0.0422\n"
     ]
    }
   ],
   "source": [
    "print('F1 Scores: ' + str(round(np.mean(f1s),4)) + ' ± ' + str(round(np.std(f1s), 4)))\n",
    "print('Precision: ' + str(round(np.mean(precisions),4)) + ' ± ' + str(round(np.std(precisions), 4)))\n",
    "print('Recall: ' + str(round(np.mean(recalls),4)) + ' ± ' + str(round(np.std(recalls), 4)))\n",
    "print('Accuracy: ' + str(round(np.mean(accuracys),4)) + ' ± ' + str(round(np.std(accuracys), 4)))"
   ]
  },
  {
   "cell_type": "code",
   "execution_count": 12,
   "metadata": {},
   "outputs": [
    {
     "name": "stdout",
     "output_type": "stream",
     "text": [
      "AUC = 0.7098 ± 0.0478\n"
     ]
    }
   ],
   "source": [
    "print('AUC = '+ str(round(np.mean(aucs), 4)) + ' ± '+ str(round(np.std(aucs), 4)))"
   ]
  }
 ],
 "metadata": {
  "kernelspec": {
   "display_name": "Python 3",
   "language": "python",
   "name": "python3"
  },
  "language_info": {
   "codemirror_mode": {
    "name": "ipython",
    "version": 3
   },
   "file_extension": ".py",
   "mimetype": "text/x-python",
   "name": "python",
   "nbconvert_exporter": "python",
   "pygments_lexer": "ipython3",
   "version": "3.8.3"
  }
 },
 "nbformat": 4,
 "nbformat_minor": 4
}
