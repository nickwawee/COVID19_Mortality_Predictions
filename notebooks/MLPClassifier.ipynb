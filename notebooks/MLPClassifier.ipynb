{
 "cells": [
  {
   "cell_type": "code",
   "execution_count": 54,
   "metadata": {},
   "outputs": [],
   "source": [
    "import pandas as pd\n",
    "import seaborn as sns\n",
    "import matplotlib.pyplot as plt\n",
    "import numpy as np\n",
    "\n",
    "from sklearn.neural_network import MLPClassifier\n",
    "from sklearn import preprocessing\n",
    "from sklearn.model_selection import StratifiedKFold, GridSearchCV, train_test_split\n",
    "from sklearn.metrics import classification_report, auc, roc_auc_score, confusion_matrix, accuracy_score, f1_score, matthews_corrcoef, roc_curve"
   ]
  },
  {
   "cell_type": "code",
   "execution_count": 55,
   "metadata": {},
   "outputs": [],
   "source": [
    "# Read the cleaned data into a dataframe\n",
    "X = pd.read_csv(\"../data/processed/X.csv\")\n",
    "y = pd.read_csv(\"../data/processed/Y.csv\")"
   ]
  },
  {
   "cell_type": "code",
   "execution_count": 5,
   "metadata": {},
   "outputs": [
    {
     "data": {
      "text/plain": [
       "(328977, 25)"
      ]
     },
     "execution_count": 5,
     "metadata": {},
     "output_type": "execute_result"
    }
   ],
   "source": [
    "X.shape"
   ]
  },
  {
   "cell_type": "code",
   "execution_count": 11,
   "metadata": {},
   "outputs": [
    {
     "name": "stdout",
     "output_type": "stream",
     "text": [
      "Fitting 5 folds for each of 108 candidates, totalling 540 fits\n"
     ]
    },
    {
     "name": "stderr",
     "output_type": "stream",
     "text": [
      "[Parallel(n_jobs=1)]: Using backend SequentialBackend with 1 concurrent workers.\n",
      "[Parallel(n_jobs=1)]: Done 540 out of 540 | elapsed: 304.4min finished\n"
     ]
    },
    {
     "data": {
      "text/plain": [
       "GridSearchCV(cv=5, estimator=MLPClassifier(),\n",
       "             param_grid=[{'activation': ['identity', 'logistic', 'tanh',\n",
       "                                         'relu'],\n",
       "                          'alpha': [1e-05, 0.0001, 0.001],\n",
       "                          'hidden_layer_sizes': [(3,), (5,), (7,)],\n",
       "                          'learning_rate': ['constant', 'invscaling',\n",
       "                                            'adaptive'],\n",
       "                          'solver': ['sgd']}],\n",
       "             verbose=1)"
      ]
     },
     "execution_count": 11,
     "metadata": {},
     "output_type": "execute_result"
    }
   ],
   "source": [
    "parameters = [{\n",
    "                'hidden_layer_sizes': [(3,),(5,),(7,)],\n",
    "                'activation': ['identity', 'logistic', 'tanh', 'relu'],\n",
    "                'solver':['adam'], 'alpha':[0.00001, 0.0001, 0.001],\n",
    "                'learning_rate':['constant', 'invscaling', 'adaptive']\n",
    "             }]\n",
    "\n",
    "xTrain, xTest, yTrain, yTest = train_test_split(X, y)\n",
    "\n",
    "clf = GridSearchCV(MLPClassifier(), parameters, cv=5, verbose=1)\n",
    "clf.fit(xTrain, yTrain.values.ravel())"
   ]
  },
  {
   "cell_type": "code",
   "execution_count": 12,
   "metadata": {},
   "outputs": [
    {
     "data": {
      "text/plain": [
       "{'activation': 'tanh',\n",
       " 'alpha': 0.001,\n",
       " 'hidden_layer_sizes': (5,),\n",
       " 'learning_rate': 'adaptive',\n",
       " 'solver': 'sgd'}"
      ]
     },
     "execution_count": 12,
     "metadata": {},
     "output_type": "execute_result"
    }
   ],
   "source": [
    "clf.best_params_"
   ]
  },
  {
   "cell_type": "code",
   "execution_count": 16,
   "metadata": {},
   "outputs": [
    {
     "data": {
      "text/plain": [
       "0.9398253957188316"
      ]
     },
     "execution_count": 16,
     "metadata": {},
     "output_type": "execute_result"
    }
   ],
   "source": [
    "clf.best_score_"
   ]
  },
  {
   "cell_type": "code",
   "execution_count": 17,
   "metadata": {},
   "outputs": [
    {
     "data": {
      "text/plain": [
       "5"
      ]
     },
     "execution_count": 17,
     "metadata": {},
     "output_type": "execute_result"
    }
   ],
   "source": [
    "clf.n_splits_"
   ]
  },
  {
   "cell_type": "code",
   "execution_count": 18,
   "metadata": {},
   "outputs": [],
   "source": [
    "yPred = clf.predict(xTest)"
   ]
  },
  {
   "cell_type": "code",
   "execution_count": 51,
   "metadata": {},
   "outputs": [
    {
     "name": "stdout",
     "output_type": "stream",
     "text": [
      "              precision    recall  f1-score   support\n",
      "\n",
      "           0       0.96      0.97      0.97     75442\n",
      "           1       0.64      0.59      0.61      6803\n",
      "\n",
      "    accuracy                           0.94     82245\n",
      "   macro avg       0.80      0.78      0.79     82245\n",
      "weighted avg       0.94      0.94      0.94     82245\n",
      "\n"
     ]
    }
   ],
   "source": [
    "MLP_Metrics = classification_report(yTest, yPred)\n",
    "print(MLP_Metrics)\n",
    "\n",
    "# Save this information to a text file, just in case\n",
    "with open(\"../plots/MLPClassifier_Info.txt\", \"w\") as text_file:\n",
    "    print(\"Best Parameters:\\n{}\\n\\nMLPClassifier Metrics:\\n{}\".format(clf.best_params_, MLP_Metrics), file=text_file)"
   ]
  },
  {
   "cell_type": "markdown",
   "metadata": {},
   "source": [
    "### Re-run using the best parameters\n",
    "The correct parameters are found in Project.ipynb\n",
    "\n",
    "This is run using 5 Stratified K-Folds and records the metrics so that we can plot them"
   ]
  },
  {
   "cell_type": "code",
   "execution_count": 170,
   "metadata": {},
   "outputs": [
    {
     "data": {
      "image/png": "[encoded data removed]",
      "text/plain": [
       "<Figure size 432x288 with 1 Axes>"
      ]
     },
     "metadata": {
      "needs_background": "light"
     },
     "output_type": "display_data"
    }
   ],
   "source": [
    "from numpy import interp\n",
    "\n",
    "skf = StratifiedKFold(n_splits=5)\n",
    "\n",
    "tprs = []\n",
    "aucs = []\n",
    "mean_fpr = np.linspace(0, 1, 100)\n",
    "acc = []\n",
    "f1 = []\n",
    "mcc = []\n",
    "cm = []\n",
    "input_weight_df = pd.DataFrame()\n",
    "metric_reports = pd.DataFrame()\n",
    "i =1\n",
    "\n",
    "for trainIndex, textIndex in skf.split(X, y):\n",
    "    xTrain, xTest = X.iloc[trainIndex], X.iloc[textIndex]\n",
    "    yTrain, yTest = y.iloc[trainIndex], y.iloc[textIndex]\n",
    "\n",
    "    clf = MLPClassifier(hidden_layer_sizes=(7,), activation='tanh', solver='adam', alpha=0.001, learning_rate = 'adaptive', random_state = 2020)\n",
    "    clf.fit(xTrain, yTrain.values.ravel())  \n",
    "\n",
    "    yPred = clf.predict(xTest)\n",
    "\n",
    "    # All Scores\n",
    "    acc.append(accuracy_score(yTest, yPred))\n",
    "    f1.append(f1_score(yPred,yTest))\n",
    "    mcc.append(matthews_corrcoef(yTest, yPred))\n",
    "    cm.append(confusion_matrix(yTest,yPred))\n",
    "    \n",
    "    #Classification reports\n",
    "    rpt = pd.DataFrame(classification_report(yTest, yPred,  output_dict=True)).transpose()\n",
    "    rpt['Fold'] = i\n",
    "    metric_reports = metric_reports.append(rpt)\n",
    "    \n",
    "    # Input Layer Weights\n",
    "    for j in range(len(clf.coefs_[0])):\n",
    "        input_weight_df.loc[str(X.columns[j]),\"Fold {}\".format(i)] = clf.coefs_[0][j][0]\n",
    "\n",
    "\n",
    "    # ROC Curve\n",
    "    fpr, tpr, thresholds = roc_curve(yTest, yPred)\n",
    "    tprs.append(interp(mean_fpr, fpr, tpr))\n",
    "    tprs[-1][0] = 0.0\n",
    "    roc_auc = auc(fpr, tpr)\n",
    "    aucs.append(roc_auc)\n",
    "    plt.plot(fpr, tpr, lw=1, alpha=0.3,\n",
    "             label='ROC fold %d (AUC = %0.2f)' % (i, roc_auc))\n",
    "    i = i+1"
   ]
  },
  {
   "cell_type": "markdown",
   "metadata": {},
   "source": [
    "### Plot results"
   ]
  },
  {
   "cell_type": "code",
   "execution_count": 179,
   "metadata": {},
   "outputs": [
    {
     "data": {
      "image/png": "[encoded data removed]",
      "text/plain": [
       "<Figure size 432x288 with 1 Axes>"
      ]
     },
     "metadata": {
      "needs_background": "light"
     },
     "output_type": "display_data"
    },
    {
     "data": {
      "image/png": "[encoded data removed]",
      "text/plain": [
       "<Figure size 432x288 with 1 Axes>"
      ]
     },
     "metadata": {
      "needs_background": "light"
     },
     "output_type": "display_data"
    },
    {
     "data": {
      "image/png": "[encoded data removed]",
      "text/plain": [
       "<Figure size 432x288 with 1 Axes>"
      ]
     },
     "metadata": {
      "needs_background": "light"
     },
     "output_type": "display_data"
    },
    {
     "data": {
      "text/html": [
       "<div>\n",
       "<style scoped>\n",
       "    .dataframe tbody tr th:only-of-type {\n",
       "        vertical-align: middle;\n",
       "    }\n",
       "\n",
       "    .dataframe tbody tr th {\n",
       "        vertical-align: top;\n",
       "    }\n",
       "\n",
       "    .dataframe thead th {\n",
       "        text-align: right;\n",
       "    }\n",
       "</style>\n",
       "<table border=\"1\" class=\"dataframe\">\n",
       "  <thead>\n",
       "    <tr style=\"text-align: right;\">\n",
       "      <th></th>\n",
       "      <th>precision</th>\n",
       "      <th>recall</th>\n",
       "      <th>f1-score</th>\n",
       "      <th>support</th>\n",
       "    </tr>\n",
       "  </thead>\n",
       "  <tbody>\n",
       "    <tr>\n",
       "      <th>0</th>\n",
       "      <td>0.9584 ± 0.0167</td>\n",
       "      <td>0.9664 ± 0.0344</td>\n",
       "      <td>0.9618 ± 0.0113</td>\n",
       "      <td>60405.0 ± 0.0</td>\n",
       "    </tr>\n",
       "    <tr>\n",
       "      <th>1</th>\n",
       "      <td>0.6773 ± 0.1943</td>\n",
       "      <td>0.5218 ± 0.2146</td>\n",
       "      <td>0.5331 ± 0.1281</td>\n",
       "      <td>5390.4 ± 0.5477</td>\n",
       "    </tr>\n",
       "    <tr>\n",
       "      <th>accuracy</th>\n",
       "      <td>0.93 ± 0.0189</td>\n",
       "      <td>0.93 ± 0.0189</td>\n",
       "      <td>0.93 ± 0.0189</td>\n",
       "      <td>0.93 ± 0.0189</td>\n",
       "    </tr>\n",
       "    <tr>\n",
       "      <th>macro avg</th>\n",
       "      <td>0.8179 ± 0.0898</td>\n",
       "      <td>0.7441 ± 0.0931</td>\n",
       "      <td>0.7475 ± 0.0647</td>\n",
       "      <td>65795.4 ± 0.5477</td>\n",
       "    </tr>\n",
       "    <tr>\n",
       "      <th>weighted avg</th>\n",
       "      <td>0.9353 ± 0.0075</td>\n",
       "      <td>0.93 ± 0.0189</td>\n",
       "      <td>0.9267 ± 0.0153</td>\n",
       "      <td>65795.4 ± 0.5477</td>\n",
       "    </tr>\n",
       "  </tbody>\n",
       "</table>\n",
       "</div>"
      ],
      "text/plain": [
       "                    precision           recall         f1-score  \\\n",
       "0             0.9584 ± 0.0167  0.9664 ± 0.0344  0.9618 ± 0.0113   \n",
       "1             0.6773 ± 0.1943  0.5218 ± 0.2146  0.5331 ± 0.1281   \n",
       "accuracy        0.93 ± 0.0189    0.93 ± 0.0189    0.93 ± 0.0189   \n",
       "macro avg     0.8179 ± 0.0898  0.7441 ± 0.0931  0.7475 ± 0.0647   \n",
       "weighted avg  0.9353 ± 0.0075    0.93 ± 0.0189  0.9267 ± 0.0153   \n",
       "\n",
       "                       support  \n",
       "0                60405.0 ± 0.0  \n",
       "1              5390.4 ± 0.5477  \n",
       "accuracy         0.93 ± 0.0189  \n",
       "macro avg     65795.4 ± 0.5477  \n",
       "weighted avg  65795.4 ± 0.5477  "
      ]
     },
     "execution_count": 179,
     "metadata": {},
     "output_type": "execute_result"
    }
   ],
   "source": [
    "# Plot the ROC and AUCs of each Fold\n",
    "plt.plot([0, 1], [0, 1], linestyle='--', lw=2, color='r', label='Chance', alpha=.8)\n",
    "\n",
    "mean_tpr = np.mean(tprs, axis=0)\n",
    "mean_tpr[-1] = 1.0\n",
    "mean_auc = auc(mean_fpr, mean_tpr)\n",
    "std_auc = np.std(aucs)\n",
    "plt.plot(mean_fpr, mean_tpr, color='b',\n",
    "         label=r'Mean (AUC = %0.2f $\\pm$ %0.2f)' % (mean_auc, std_auc),\n",
    "         lw=2, alpha=.8)\n",
    "\n",
    "std_tpr = np.std(tprs, axis=0)\n",
    "tprs_upper = np.minimum(mean_tpr + std_tpr, 1)\n",
    "tprs_lower = np.maximum(mean_tpr - std_tpr, 0)\n",
    "plt.fill_between(mean_fpr, tprs_lower, tprs_upper, color='grey', alpha=.2,\n",
    "                 label=r'$\\pm$ 1 std. dev.')\n",
    "\n",
    "plt.xlim([-0.05, 1.05])\n",
    "plt.ylim([-0.05, 1.05])\n",
    "plt.xlabel('False Positive Rate')\n",
    "plt.ylabel('True Positive Rate')\n",
    "plt.title('MLP Receiver Operating Characteristic')\n",
    "plt.legend(loc=\"lower right\")\n",
    "plt.show()\n",
    "  \n",
    "\n",
    "# Add each fold's results to get the combined Confusion Matrix\n",
    "tp = fp = fn = tn = 0\n",
    "for m in cm:\n",
    "    tp += m[0][0]\n",
    "    fp += m[0][1]\n",
    "    \n",
    "    fn += m[1][0]\n",
    "    tn += m[1][1]\n",
    "    \n",
    "finalCM = [[tp, fp], [fn, tn]]\n",
    "\n",
    "# Show the confusion matrix\n",
    "ax = sns.heatmap(finalCM, annot=True, cbar=False, fmt='g')\n",
    "bottom, top = ax.get_ylim()\n",
    "ax.set_ylim(bottom + 0.5, top - 0.5)\n",
    "plt.ylabel('True Label')\n",
    "plt.xlabel('Predicted Label')\n",
    "plt.title('Combined Confusion Matrix')\n",
    "plt.show()\n",
    "\n",
    "input_weight_df.transpose()\n",
    "avg_weights = pd.DataFrame(input_weight_df.transpose().mean(), columns = [\"Input Layer Weight\"])\n",
    "avg_weights[\"std deviation\"] = input_weight_df.transpose().std()\n",
    "\n",
    "compare_names = pd.DataFrame()\n",
    "compare_names[\"Before\"] = avg_weights.index\n",
    "\n",
    "# Rename to make it easier to read\n",
    "avg_weights.index = ['Lab-confirmed case', 'Female', 'Male',\\\n",
    "       '0 - 9 Years', '10 - 19 Years',\\\n",
    "       '20 - 29 Years', '30 - 39 Years',\\\n",
    "       '40 - 49 Years', '50 - 59 Years',\\\n",
    "       '60 - 69 Years', '70 - 79 Years',\\\n",
    "       '80+ Years',\\\n",
    "       'American Indn./AK Nat.',\\\n",
    "       'Asian',\\\n",
    "       'Black',\\\n",
    "       'Hispanic/Latino',\\\n",
    "       'Multiple/Other',\\\n",
    "       'Nat. HI/Other Pac. Isl.',\\\n",
    "       'White', 'Hosp_No',\\\n",
    "       'Hosp_Yes', 'ICU_No', 'ICU_Yes', 'Medcond_No',\\\n",
    "       'Medcond_Yes']\n",
    "compare_names[\"After\"] = avg_weights.index\n",
    "# You can run this to easily see that nothing was mis-labeled\n",
    "# print(compare_names, '\\n\\n')\n",
    "\n",
    "# Plot the input layer weights\n",
    "avg_weights = avg_weights.sort_values('Input Layer Weight')\n",
    "plt.bar(avg_weights.index, avg_weights.loc[:,'Input Layer Weight'], yerr=avg_weights.loc[:,\"std deviation\"], ecolor='black', align='center')\n",
    "plt.ylabel('Input Layer Weights')\n",
    "plt.xticks(rotation=60, horizontalalignment = 'right')\n",
    "plt.savefig('../plots/MLP_ILayerWeights')\n",
    "plt.title(\"MLP Input Weights\")\n",
    "plt.show()\n",
    "\n",
    "\n",
    "# Plot the average from the metric reports\n",
    "meandf_c = metric_reports.groupby(metric_reports.index).mean()\n",
    "sddf_c = metric_reports.groupby(metric_reports.index).std()\n",
    "\n",
    "resdf_c = round(meandf_c.loc[:,'precision':'support'],4).astype(str)+ \" ± \"+\\\n",
    "    round(sddf_c.loc[:,'precision':'support'],4).astype(str)\n",
    "\n",
    "# Save the metrics to a csv\n",
    "resdf_c.to_csv(\"../plots/MLP_Metrics.csv\")\n",
    "resdf_c"
   ]
  }
 ],
 "metadata": {
  "kernelspec": {
   "display_name": "Python 3",
   "language": "python",
   "name": "python3"
  },
  "language_info": {
   "codemirror_mode": {
    "name": "ipython",
    "version": 3
   },
   "file_extension": ".py",
   "mimetype": "text/x-python",
   "name": "python",
   "nbconvert_exporter": "python",
   "pygments_lexer": "ipython3",
   "version": "3.8.1"
  }
 },
 "nbformat": 4,
 "nbformat_minor": 4
}
