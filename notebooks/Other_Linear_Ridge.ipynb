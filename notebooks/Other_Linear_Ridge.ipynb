{
 "cells": [
  {
   "cell_type": "code",
   "execution_count": 8,
   "metadata": {},
   "outputs": [],
   "source": [
    "\n",
    "import pandas as pd\n",
    "from sklearn import linear_model\n",
    "X = pd.read_csv('../data/processed/X.csv')\n",
    "Y = pd.read_csv('../data/processed/Y.csv')\n",
    "lr = linear_model.LinearRegression()\n",
    "predicted = lr.fit(X=X, y=Y)"
   ]
  },
  {
   "cell_type": "code",
   "execution_count": 18,
   "metadata": {},
   "outputs": [
    {
     "data": {
      "text/plain": [
       "{'copy_X': True, 'fit_intercept': True, 'n_jobs': None, 'normalize': False}"
      ]
     },
     "execution_count": 18,
     "metadata": {},
     "output_type": "execute_result"
    }
   ],
   "source": [
    "predicted.fit(X, Y).get_params()"
   ]
  },
  {
   "cell_type": "code",
   "execution_count": 19,
   "metadata": {},
   "outputs": [],
   "source": [
    "import statsmodels.api as sm"
   ]
  },
  {
   "cell_type": "code",
   "execution_count": 21,
   "metadata": {},
   "outputs": [],
   "source": [
    "results = sm.OLS(Y, X).fit()"
   ]
  },
  {
   "cell_type": "code",
   "execution_count": 23,
   "metadata": {},
   "outputs": [
    {
     "data": {
      "text/plain": [
       "current_status_Laboratory-confirmed case                                              0.984560\n",
       "sex_Female                                                                            0.982572\n",
       "sex_Male                                                                              0.982572\n",
       "age_group_0 - 9 Years                                                                 0.999505\n",
       "age_group_10 - 19 Years                                                               0.999505\n",
       "age_group_20 - 29 Years                                                               0.999505\n",
       "age_group_30 - 39 Years                                                               0.999505\n",
       "age_group_40 - 49 Years                                                               0.999505\n",
       "age_group_50 - 59 Years                                                               0.999505\n",
       "age_group_60 - 69 Years                                                               0.999505\n",
       "age_group_70 - 79 Years                                                               0.999505\n",
       "age_group_80+ Years                                                                   0.999505\n",
       "Race and ethnicity (combined)_American Indian/Alaska Native, Non-Hispanic             0.994723\n",
       "Race and ethnicity (combined)_Asian, Non-Hispanic                                     0.994723\n",
       "Race and ethnicity (combined)_Black, Non-Hispanic                                     0.994723\n",
       "Race and ethnicity (combined)_Hispanic/Latino                                         0.994723\n",
       "Race and ethnicity (combined)_Multiple/Other, Non-Hispanic                            0.994723\n",
       "Race and ethnicity (combined)_Native Hawaiian/Other Pacific Islander, Non-Hispanic    0.994723\n",
       "Race and ethnicity (combined)_White, Non-Hispanic                                     0.994723\n",
       "hosp_yn_No                                                                            0.965205\n",
       "hosp_yn_Yes                                                                           0.965205\n",
       "icu_yn_No                                                                             0.964837\n",
       "icu_yn_Yes                                                                            0.964837\n",
       "medcond_yn_No                                                                         0.971927\n",
       "medcond_yn_Yes                                                                        0.971927\n",
       "dtype: float64"
      ]
     },
     "execution_count": 23,
     "metadata": {},
     "output_type": "execute_result"
    }
   ],
   "source": [
    "results.pvalues"
   ]
  },
  {
   "cell_type": "code",
   "execution_count": 24,
   "metadata": {},
   "outputs": [],
   "source": [
    "from sklearn.linear_model import Ridge\n",
    "\n",
    "ridge = Ridge(normalize=True).fit(X, Y)"
   ]
  },
  {
   "cell_type": "code",
   "execution_count": 26,
   "metadata": {},
   "outputs": [],
   "source": [
    "coefs_ridge = pd.DataFrame(list(zip(X.columns, ridge.coef_)),columns=['variable', 'coef_ridge'])"
   ]
  },
  {
   "cell_type": "code",
   "execution_count": 29,
   "metadata": {},
   "outputs": [],
   "source": [
    "ridgedf = pd.DataFrame(ridge.coef_)"
   ]
  },
  {
   "cell_type": "code",
   "execution_count": 30,
   "metadata": {},
   "outputs": [],
   "source": [
    "ridgedf.columns = X.columns"
   ]
  },
  {
   "cell_type": "code",
   "execution_count": 32,
   "metadata": {},
   "outputs": [
    {
     "data": {
      "text/html": [
       "<div>\n",
       "<style scoped>\n",
       "    .dataframe tbody tr th:only-of-type {\n",
       "        vertical-align: middle;\n",
       "    }\n",
       "\n",
       "    .dataframe tbody tr th {\n",
       "        vertical-align: top;\n",
       "    }\n",
       "\n",
       "    .dataframe thead th {\n",
       "        text-align: right;\n",
       "    }\n",
       "</style>\n",
       "<table border=\"1\" class=\"dataframe\">\n",
       "  <thead>\n",
       "    <tr style=\"text-align: right;\">\n",
       "      <th></th>\n",
       "      <th>current_status_Laboratory-confirmed case</th>\n",
       "      <th>sex_Female</th>\n",
       "      <th>sex_Male</th>\n",
       "      <th>age_group_0 - 9 Years</th>\n",
       "      <th>age_group_10 - 19 Years</th>\n",
       "      <th>age_group_20 - 29 Years</th>\n",
       "      <th>age_group_30 - 39 Years</th>\n",
       "      <th>age_group_40 - 49 Years</th>\n",
       "      <th>age_group_50 - 59 Years</th>\n",
       "      <th>age_group_60 - 69 Years</th>\n",
       "      <th>age_group_70 - 79 Years</th>\n",
       "      <th>age_group_80+ Years</th>\n",
       "      <th>Race and ethnicity (combined)_American Indian/Alaska Native, Non-Hispanic</th>\n",
       "      <th>Race and ethnicity (combined)_Asian, Non-Hispanic</th>\n",
       "      <th>Race and ethnicity (combined)_Black, Non-Hispanic</th>\n",
       "      <th>Race and ethnicity (combined)_Hispanic/Latino</th>\n",
       "      <th>Race and ethnicity (combined)_Multiple/Other, Non-Hispanic</th>\n",
       "      <th>Race and ethnicity (combined)_Native Hawaiian/Other Pacific Islander, Non-Hispanic</th>\n",
       "      <th>Race and ethnicity (combined)_White, Non-Hispanic</th>\n",
       "      <th>hosp_yn_No</th>\n",
       "      <th>hosp_yn_Yes</th>\n",
       "      <th>icu_yn_No</th>\n",
       "      <th>icu_yn_Yes</th>\n",
       "      <th>medcond_yn_No</th>\n",
       "      <th>medcond_yn_Yes</th>\n",
       "    </tr>\n",
       "  </thead>\n",
       "  <tbody>\n",
       "    <tr>\n",
       "      <th>0</th>\n",
       "      <td>0.0</td>\n",
       "      <td>-0.005817</td>\n",
       "      <td>0.005817</td>\n",
       "      <td>-0.019465</td>\n",
       "      <td>-0.016983</td>\n",
       "      <td>-0.019324</td>\n",
       "      <td>-0.022408</td>\n",
       "      <td>-0.023439</td>\n",
       "      <td>-0.017855</td>\n",
       "      <td>0.003936</td>\n",
       "      <td>0.046306</td>\n",
       "      <td>0.144708</td>\n",
       "      <td>-0.005796</td>\n",
       "      <td>0.009542</td>\n",
       "      <td>0.006215</td>\n",
       "      <td>-0.001667</td>\n",
       "      <td>0.000858</td>\n",
       "      <td>-0.014229</td>\n",
       "      <td>-0.002621</td>\n",
       "      <td>-0.058391</td>\n",
       "      <td>0.058391</td>\n",
       "      <td>-0.132704</td>\n",
       "      <td>0.132704</td>\n",
       "      <td>-0.014931</td>\n",
       "      <td>0.014931</td>\n",
       "    </tr>\n",
       "  </tbody>\n",
       "</table>\n",
       "</div>"
      ],
      "text/plain": [
       "   current_status_Laboratory-confirmed case  sex_Female  sex_Male  \\\n",
       "0                                       0.0   -0.005817  0.005817   \n",
       "\n",
       "   age_group_0 - 9 Years  age_group_10 - 19 Years  age_group_20 - 29 Years  \\\n",
       "0              -0.019465                -0.016983                -0.019324   \n",
       "\n",
       "   age_group_30 - 39 Years  age_group_40 - 49 Years  age_group_50 - 59 Years  \\\n",
       "0                -0.022408                -0.023439                -0.017855   \n",
       "\n",
       "   age_group_60 - 69 Years  age_group_70 - 79 Years  age_group_80+ Years  \\\n",
       "0                 0.003936                 0.046306             0.144708   \n",
       "\n",
       "   Race and ethnicity (combined)_American Indian/Alaska Native, Non-Hispanic  \\\n",
       "0                                          -0.005796                           \n",
       "\n",
       "   Race and ethnicity (combined)_Asian, Non-Hispanic  \\\n",
       "0                                           0.009542   \n",
       "\n",
       "   Race and ethnicity (combined)_Black, Non-Hispanic  \\\n",
       "0                                           0.006215   \n",
       "\n",
       "   Race and ethnicity (combined)_Hispanic/Latino  \\\n",
       "0                                      -0.001667   \n",
       "\n",
       "   Race and ethnicity (combined)_Multiple/Other, Non-Hispanic  \\\n",
       "0                                           0.000858            \n",
       "\n",
       "   Race and ethnicity (combined)_Native Hawaiian/Other Pacific Islander, Non-Hispanic  \\\n",
       "0                                          -0.014229                                    \n",
       "\n",
       "   Race and ethnicity (combined)_White, Non-Hispanic  hosp_yn_No  hosp_yn_Yes  \\\n",
       "0                                          -0.002621   -0.058391     0.058391   \n",
       "\n",
       "   icu_yn_No  icu_yn_Yes  medcond_yn_No  medcond_yn_Yes  \n",
       "0  -0.132704    0.132704      -0.014931        0.014931  "
      ]
     },
     "execution_count": 32,
     "metadata": {},
     "output_type": "execute_result"
    }
   ],
   "source": [
    "pd.set_option('display.max_columns', None)\n",
    "ridgedf"
   ]
  },
  {
   "cell_type": "code",
   "execution_count": 33,
   "metadata": {},
   "outputs": [],
   "source": [
    "from sklearn.linear_model import ElasticNet\n",
    "\n",
    "en = ElasticNet(normalize=True).fit(X, Y)"
   ]
  },
  {
   "cell_type": "code",
   "execution_count": 35,
   "metadata": {},
   "outputs": [
    {
     "data": {
      "text/plain": [
       "array([ 0., -0.,  0., -0., -0., -0., -0., -0., -0.,  0.,  0.,  0.,  0.,\n",
       "        0.,  0., -0.,  0., -0., -0., -0.,  0., -0.,  0., -0.,  0.])"
      ]
     },
     "execution_count": 35,
     "metadata": {},
     "output_type": "execute_result"
    }
   ],
   "source": [
    "en.coef_"
   ]
  },
  {
   "cell_type": "code",
   "execution_count": null,
   "metadata": {},
   "outputs": [],
   "source": []
  }
 ],
 "metadata": {
  "kernelspec": {
   "display_name": "Python 3",
   "language": "python",
   "name": "python3"
  },
  "language_info": {
   "codemirror_mode": {
    "name": "ipython",
    "version": 3
   },
   "file_extension": ".py",
   "mimetype": "text/x-python",
   "name": "python",
   "nbconvert_exporter": "python",
   "pygments_lexer": "ipython3",
   "version": "3.8.3"
  }
 },
 "nbformat": 4,
 "nbformat_minor": 4
}
