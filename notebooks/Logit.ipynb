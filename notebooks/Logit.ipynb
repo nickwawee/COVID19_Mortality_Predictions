{
 "cells": [
  {
   "cell_type": "markdown",
   "metadata": {},
   "source": [
    "## Logistic Regression"
   ]
  },
  {
   "cell_type": "code",
   "execution_count": 1,
   "metadata": {},
   "outputs": [],
   "source": [
    "import pandas as pd\n",
    "import numpy as np\n",
    "from sklearn.linear_model import LogisticRegression\n",
    "from sklearn.model_selection import train_test_split\n",
    "from sklearn.model_selection import KFold\n",
    "import statsmodels.formula.api as smf\n",
    "from sklearn.metrics import classification_report, confusion_matrix, auc, roc_curve, f1_score, roc_auc_score\n",
    "\n",
    "import matplotlib.pyplot as plt\n",
    "import seaborn as sns\n",
    "from numpy import interp\n",
    "pd.set_option('display.max_columns', None)\n",
    "pd.set_option('display.max_rows', None)"
   ]
  },
  {
   "cell_type": "code",
   "execution_count": 2,
   "metadata": {},
   "outputs": [],
   "source": [
    "X_cat = pd.read_csv('../data/processed/X_cat.csv')\n",
    "Y = pd.read_csv('../data/processed/Y.csv')"
   ]
  },
  {
   "cell_type": "code",
   "execution_count": 3,
   "metadata": {},
   "outputs": [],
   "source": [
    "X_cat.columns = ['current_status', 'sex', 'age_group', 'Race_Ethnicity',   'hosp_yn', 'icu_yn', 'medcond_yn']\n",
    "eq = 'death_yn ~ C(current_status) + C(sex) + C(age_group) +C(Race_Ethnicity) + C(hosp_yn) + C(icu_yn) +C(medcond_yn)'"
   ]
  },
  {
   "cell_type": "code",
   "execution_count": 4,
   "metadata": {},
   "outputs": [],
   "source": [
    "kf = KFold(n_splits=5)"
   ]
  },
  {
   "cell_type": "code",
   "execution_count": 5,
   "metadata": {},
   "outputs": [
    {
     "name": "stdout",
     "output_type": "stream",
     "text": [
      "Optimization terminated successfully.\n",
      "         Current function value: 0.132287\n",
      "         Iterations 11\n",
      "Optimization terminated successfully.\n",
      "         Current function value: 0.149844\n",
      "         Iterations 11\n",
      "Optimization terminated successfully.\n",
      "         Current function value: 0.159531\n",
      "         Iterations 11\n",
      "Optimization terminated successfully.\n",
      "         Current function value: 0.095630\n",
      "         Iterations 11\n",
      "Optimization terminated successfully.\n",
      "         Current function value: 0.134211\n",
      "         Iterations 11\n"
     ]
    }
   ],
   "source": [
    "i=1\n",
    "dfa = pd.DataFrame()\n",
    "ypreddf = pd.DataFrame()\n",
    "classdf = pd.DataFrame()\n",
    "cm = []\n",
    "tprs = []\n",
    "aucs = []\n",
    "mean_fpr = np.linspace(0, 1, 100)\n",
    "\n",
    "for trainIndex, textIndex in kf.split(X_cat):\n",
    "    xTrain, xTest = X_cat.iloc[trainIndex], X_cat.iloc[textIndex]\n",
    "    yTrain, yTest = Y.iloc[trainIndex], Y.iloc[textIndex]\n",
    "\n",
    "    ##Fitting model\n",
    "    dfTrain = pd.concat([xTrain, yTrain], axis = 1)\n",
    "    model = smf.logit(eq, data=dfTrain)\n",
    "    SMFresults = model.fit()\n",
    "    ypred = SMFresults.predict(xTest)\n",
    "    \n",
    "    ypred[ypred>= 0.5] = 1\n",
    "    ypred[ypred<0.5] = 0\n",
    "    ypreddf = ypreddf.append(pd.concat([ypred, yTest], axis = 1, ignore_index = True))\n",
    "\n",
    "    ##Storing Parameters\n",
    "    aic = SMFresults.aic\n",
    "    ci = SMFresults.conf_int()\n",
    "    pvals = SMFresults.pvalues\n",
    "    rsq = SMFresults.prsquared\n",
    "    coefs = SMFresults.params\n",
    "\n",
    "    logit_auc = roc_auc_score(yTest, ypred)\n",
    "    fpr, tpr, threshold = roc_curve(yTest, ypred)\n",
    "\n",
    "    ##Appending Dataframes\n",
    "    #Main df\n",
    "    dfnew = pd.concat([coefs, ci, pvals], axis = 1)\n",
    "    dfnew.columns = ['Coeffs', 'Lower', 'Upper', 'P-value']\n",
    "    dfnew['Fold'] = i\n",
    "    dfnew['AIC'] = aic\n",
    "    dfnew['PRsq'] = rsq\n",
    "    dfnew['AUC'] = logit_auc\n",
    "    dfnew['TPR'] = tpr[1]\n",
    "    dfnew['FPR'] = fpr[1]\n",
    "    dfnew['F1'] = f1_score(y_true=yTest, y_pred = ypred)\n",
    "    dfa = dfa.append(dfnew)\n",
    "    \n",
    "    #Classification df\n",
    "    rpt = pd.DataFrame(classification_report(yTest, ypred,  output_dict=True)).transpose()\n",
    "    rpt['Fold'] = i\n",
    "    classdf = classdf.append(rpt)\n",
    "    \n",
    "    #Confusion matrix\n",
    "    cm.append(confusion_matrix(yTest,ypred))\n",
    "    \n",
    "    # ROC Curve\n",
    "    fpr, tpr, thresholds = roc_curve(yTest, ypred)\n",
    "    tprs.append(interp(mean_fpr, fpr, tpr))\n",
    "    tprs[-1][0] = 0.0\n",
    "    roc_auc = auc(fpr, tpr)\n",
    "    aucs.append(roc_auc)\n",
    "    \n",
    "    i = i + 1"
   ]
  },
  {
   "cell_type": "markdown",
   "metadata": {},
   "source": [
    "## Visualizing Coefficients and Statistics"
   ]
  },
  {
   "cell_type": "markdown",
   "metadata": {},
   "source": [
    "### Cleaning Coefficient Names"
   ]
  },
  {
   "cell_type": "code",
   "execution_count": 13,
   "metadata": {},
   "outputs": [],
   "source": [
    "meandf = dfa.groupby(dfa.index).mean()\n",
    "sddf = dfa.groupby(dfa.index).std()"
   ]
  },
  {
   "cell_type": "code",
   "execution_count": 14,
   "metadata": {},
   "outputs": [
    {
     "name": "stdout",
     "output_type": "stream",
     "text": [
      "AUC = 0.676 ± 0.1485\n"
     ]
    }
   ],
   "source": [
    "print('AUC = '+ str(round(meandf['AUC'][0], 4)) + ' ± ' + str(round(sddf['AUC'][0], 4)))"
   ]
  },
  {
   "cell_type": "code",
   "execution_count": 15,
   "metadata": {},
   "outputs": [],
   "source": [
    "indx = [\"Asian\", \"Black\", \"Hispanic/Latino\", \"Multiple/Other\", \"Haw./Pac. Isldr.\", \"White\"\\\n",
    ",\"10 - 19 Years\", \"20 - 29 Years\", \"30 - 39 Years\", \"40 - 49 Years\", \"50 - 59 Years\", \"60 - 69 Years\",\\\n",
    "\"70 - 79 Years\",\"80+ Years\", \"Hosp = Yes\", \"ICU = Yes\", \"Med. Cond. = Yes\", \"Male\", \"Intercept\"]\n",
    "meandf.index = indx\n",
    "sddf.index = indx"
   ]
  },
  {
   "cell_type": "markdown",
   "metadata": {},
   "source": [
    "### Table"
   ]
  },
  {
   "cell_type": "code",
   "execution_count": 16,
   "metadata": {},
   "outputs": [
    {
     "data": {
      "text/html": [
       "<div>\n",
       "<style scoped>\n",
       "    .dataframe tbody tr th:only-of-type {\n",
       "        vertical-align: middle;\n",
       "    }\n",
       "\n",
       "    .dataframe tbody tr th {\n",
       "        vertical-align: top;\n",
       "    }\n",
       "\n",
       "    .dataframe thead th {\n",
       "        text-align: right;\n",
       "    }\n",
       "</style>\n",
       "<table border=\"1\" class=\"dataframe\">\n",
       "  <thead>\n",
       "    <tr style=\"text-align: right;\">\n",
       "      <th></th>\n",
       "      <th>Coeffs</th>\n",
       "      <th>Lower</th>\n",
       "      <th>Upper</th>\n",
       "      <th>P-value</th>\n",
       "    </tr>\n",
       "  </thead>\n",
       "  <tbody>\n",
       "    <tr>\n",
       "      <th>White</th>\n",
       "      <td>-0.0796 ± 0.062</td>\n",
       "      <td>-0.3677 ± 0.0472</td>\n",
       "      <td>0.2084 ± 0.0865</td>\n",
       "      <td>0.5981 ± 0.2834</td>\n",
       "    </tr>\n",
       "    <tr>\n",
       "      <th>Haw./Pac. Isldr.</th>\n",
       "      <td>-0.2794 ± 0.1822</td>\n",
       "      <td>-0.6833 ± 0.1496</td>\n",
       "      <td>0.1245 ± 0.215</td>\n",
       "      <td>0.2328 ± 0.3531</td>\n",
       "    </tr>\n",
       "    <tr>\n",
       "      <th>10 - 19 Years</th>\n",
       "      <td>-0.2829 ± 0.2581</td>\n",
       "      <td>-1.0462 ± 0.2841</td>\n",
       "      <td>0.4804 ± 0.2862</td>\n",
       "      <td>0.4933 ± 0.302</td>\n",
       "    </tr>\n",
       "    <tr>\n",
       "      <th>Intercept</th>\n",
       "      <td>-8.0525 ± 0.4767</td>\n",
       "      <td>-8.7455 ± 0.4717</td>\n",
       "      <td>-7.3595 ± 0.5085</td>\n",
       "      <td>0.0 ± 0.0</td>\n",
       "    </tr>\n",
       "    <tr>\n",
       "      <th>Multiple/Other</th>\n",
       "      <td>0.1683 ± 0.1118</td>\n",
       "      <td>-0.1374 ± 0.0874</td>\n",
       "      <td>0.474 ± 0.1397</td>\n",
       "      <td>0.357 ± 0.3004</td>\n",
       "    </tr>\n",
       "    <tr>\n",
       "      <th>Black</th>\n",
       "      <td>0.2767 ± 0.0847</td>\n",
       "      <td>-0.013 ± 0.0651</td>\n",
       "      <td>0.5664 ± 0.11</td>\n",
       "      <td>0.0854 ± 0.0771</td>\n",
       "    </tr>\n",
       "    <tr>\n",
       "      <th>Male</th>\n",
       "      <td>0.3278 ± 0.0611</td>\n",
       "      <td>0.2881 ± 0.0572</td>\n",
       "      <td>0.3674 ± 0.0651</td>\n",
       "      <td>0.0 ± 0.0</td>\n",
       "    </tr>\n",
       "    <tr>\n",
       "      <th>Hispanic/Latino</th>\n",
       "      <td>0.3557 ± 0.1107</td>\n",
       "      <td>0.0657 ± 0.0898</td>\n",
       "      <td>0.6457 ± 0.1358</td>\n",
       "      <td>0.0364 ± 0.0528</td>\n",
       "    </tr>\n",
       "    <tr>\n",
       "      <th>Asian</th>\n",
       "      <td>0.3866 ± 0.1035</td>\n",
       "      <td>0.0838 ± 0.0843</td>\n",
       "      <td>0.6895 ± 0.1282</td>\n",
       "      <td>0.0241 ± 0.0262</td>\n",
       "    </tr>\n",
       "    <tr>\n",
       "      <th>20 - 29 Years</th>\n",
       "      <td>0.5296 ± 0.4997</td>\n",
       "      <td>-0.1246 ± 0.5164</td>\n",
       "      <td>1.1839 ± 0.5133</td>\n",
       "      <td>0.1143 ± 0.1934</td>\n",
       "    </tr>\n",
       "    <tr>\n",
       "      <th>Med. Cond. = Yes</th>\n",
       "      <td>1.2131 ± 0.073</td>\n",
       "      <td>1.1393 ± 0.0662</td>\n",
       "      <td>1.287 ± 0.0799</td>\n",
       "      <td>0.0 ± 0.0</td>\n",
       "    </tr>\n",
       "    <tr>\n",
       "      <th>30 - 39 Years</th>\n",
       "      <td>1.2441 ± 0.5035</td>\n",
       "      <td>0.6083 ± 0.5014</td>\n",
       "      <td>1.8799 ± 0.5369</td>\n",
       "      <td>0.0377 ± 0.0844</td>\n",
       "    </tr>\n",
       "    <tr>\n",
       "      <th>40 - 49 Years</th>\n",
       "      <td>1.7394 ± 0.4425</td>\n",
       "      <td>1.1091 ± 0.4419</td>\n",
       "      <td>2.3697 ± 0.4793</td>\n",
       "      <td>0.0007 ± 0.0016</td>\n",
       "    </tr>\n",
       "    <tr>\n",
       "      <th>Hosp = Yes</th>\n",
       "      <td>1.8254 ± 0.1207</td>\n",
       "      <td>1.7717 ± 0.1129</td>\n",
       "      <td>1.879 ± 0.1286</td>\n",
       "      <td>0.0 ± 0.0</td>\n",
       "    </tr>\n",
       "    <tr>\n",
       "      <th>ICU = Yes</th>\n",
       "      <td>2.1508 ± 0.0703</td>\n",
       "      <td>2.1044 ± 0.0674</td>\n",
       "      <td>2.1972 ± 0.0733</td>\n",
       "      <td>0.0 ± 0.0</td>\n",
       "    </tr>\n",
       "    <tr>\n",
       "      <th>50 - 59 Years</th>\n",
       "      <td>2.3314 ± 0.4478</td>\n",
       "      <td>1.7038 ± 0.4487</td>\n",
       "      <td>2.959 ± 0.4834</td>\n",
       "      <td>0.0 ± 0.0</td>\n",
       "    </tr>\n",
       "    <tr>\n",
       "      <th>60 - 69 Years</th>\n",
       "      <td>2.96 ± 0.4747</td>\n",
       "      <td>2.3327 ± 0.4695</td>\n",
       "      <td>3.5874 ± 0.5136</td>\n",
       "      <td>0.0 ± 0.0</td>\n",
       "    </tr>\n",
       "    <tr>\n",
       "      <th>70 - 79 Years</th>\n",
       "      <td>3.6191 ± 0.6161</td>\n",
       "      <td>2.9917 ± 0.6367</td>\n",
       "      <td>4.2465 ± 0.6226</td>\n",
       "      <td>0.0 ± 0.0</td>\n",
       "    </tr>\n",
       "    <tr>\n",
       "      <th>80+ Years</th>\n",
       "      <td>4.9624 ± 0.3991</td>\n",
       "      <td>4.3347 ± 0.3756</td>\n",
       "      <td>5.5901 ± 0.4593</td>\n",
       "      <td>0.0 ± 0.0</td>\n",
       "    </tr>\n",
       "  </tbody>\n",
       "</table>\n",
       "</div>"
      ],
      "text/plain": [
       "                            Coeffs             Lower             Upper  \\\n",
       "White              -0.0796 ± 0.062  -0.3677 ± 0.0472   0.2084 ± 0.0865   \n",
       "Haw./Pac. Isldr.  -0.2794 ± 0.1822  -0.6833 ± 0.1496    0.1245 ± 0.215   \n",
       "10 - 19 Years     -0.2829 ± 0.2581  -1.0462 ± 0.2841   0.4804 ± 0.2862   \n",
       "Intercept         -8.0525 ± 0.4767  -8.7455 ± 0.4717  -7.3595 ± 0.5085   \n",
       "Multiple/Other     0.1683 ± 0.1118  -0.1374 ± 0.0874    0.474 ± 0.1397   \n",
       "Black              0.2767 ± 0.0847   -0.013 ± 0.0651     0.5664 ± 0.11   \n",
       "Male               0.3278 ± 0.0611   0.2881 ± 0.0572   0.3674 ± 0.0651   \n",
       "Hispanic/Latino    0.3557 ± 0.1107   0.0657 ± 0.0898   0.6457 ± 0.1358   \n",
       "Asian              0.3866 ± 0.1035   0.0838 ± 0.0843   0.6895 ± 0.1282   \n",
       "20 - 29 Years      0.5296 ± 0.4997  -0.1246 ± 0.5164   1.1839 ± 0.5133   \n",
       "Med. Cond. = Yes    1.2131 ± 0.073   1.1393 ± 0.0662    1.287 ± 0.0799   \n",
       "30 - 39 Years      1.2441 ± 0.5035   0.6083 ± 0.5014   1.8799 ± 0.5369   \n",
       "40 - 49 Years      1.7394 ± 0.4425   1.1091 ± 0.4419   2.3697 ± 0.4793   \n",
       "Hosp = Yes         1.8254 ± 0.1207   1.7717 ± 0.1129    1.879 ± 0.1286   \n",
       "ICU = Yes          2.1508 ± 0.0703   2.1044 ± 0.0674   2.1972 ± 0.0733   \n",
       "50 - 59 Years      2.3314 ± 0.4478   1.7038 ± 0.4487    2.959 ± 0.4834   \n",
       "60 - 69 Years        2.96 ± 0.4747   2.3327 ± 0.4695   3.5874 ± 0.5136   \n",
       "70 - 79 Years      3.6191 ± 0.6161   2.9917 ± 0.6367   4.2465 ± 0.6226   \n",
       "80+ Years          4.9624 ± 0.3991   4.3347 ± 0.3756   5.5901 ± 0.4593   \n",
       "\n",
       "                          P-value  \n",
       "White             0.5981 ± 0.2834  \n",
       "Haw./Pac. Isldr.  0.2328 ± 0.3531  \n",
       "10 - 19 Years      0.4933 ± 0.302  \n",
       "Intercept               0.0 ± 0.0  \n",
       "Multiple/Other     0.357 ± 0.3004  \n",
       "Black             0.0854 ± 0.0771  \n",
       "Male                    0.0 ± 0.0  \n",
       "Hispanic/Latino   0.0364 ± 0.0528  \n",
       "Asian             0.0241 ± 0.0262  \n",
       "20 - 29 Years     0.1143 ± 0.1934  \n",
       "Med. Cond. = Yes        0.0 ± 0.0  \n",
       "30 - 39 Years     0.0377 ± 0.0844  \n",
       "40 - 49 Years     0.0007 ± 0.0016  \n",
       "Hosp = Yes              0.0 ± 0.0  \n",
       "ICU = Yes               0.0 ± 0.0  \n",
       "50 - 59 Years           0.0 ± 0.0  \n",
       "60 - 69 Years           0.0 ± 0.0  \n",
       "70 - 79 Years           0.0 ± 0.0  \n",
       "80+ Years               0.0 ± 0.0  "
      ]
     },
     "execution_count": 16,
     "metadata": {},
     "output_type": "execute_result"
    }
   ],
   "source": [
    "resdf = round(meandf.loc[:,'Coeffs':'P-value'],4).astype(str)+ \" ± \"+round(sddf.loc[:,'Coeffs':'P-value'],4).astype(str)\n",
    "resdf.sort_values(by = 'Coeffs')"
   ]
  },
  {
   "cell_type": "markdown",
   "metadata": {},
   "source": [
    "### Graph of Coefficients"
   ]
  },
  {
   "cell_type": "code",
   "execution_count": 10,
   "metadata": {},
   "outputs": [
    {
     "data": {
      "image/png": "[encoded data removed]",
      "text/plain": [
       "<Figure size 432x288 with 1 Axes>"
      ]
     },
     "metadata": {
      "needs_background": "light"
     },
     "output_type": "display_data"
    },
    {
     "data": {
      "text/plain": [
       "<Figure size 432x288 with 0 Axes>"
      ]
     },
     "metadata": {},
     "output_type": "display_data"
    }
   ],
   "source": [
    "meandf = meandf.sort_values('Coeffs')\n",
    "plt.bar(meandf.index, meandf.loc[:,'Coeffs'], yerr=sddf.loc[:,'Coeffs'], ecolor='black', align='center')\n",
    "plt.ylabel('Regression Coefficients')\n",
    "plt.xticks(rotation=90)\n",
    "plt.show()\n",
    "plt.savefig('../plots/Logit_RegrCoeffs')"
   ]
  },
  {
   "cell_type": "markdown",
   "metadata": {},
   "source": [
    "## Classification Report"
   ]
  },
  {
   "cell_type": "code",
   "execution_count": 11,
   "metadata": {},
   "outputs": [
    {
     "name": "stdout",
     "output_type": "stream",
     "text": [
      "F1 Scores: 0.6831 ± 0.1321\n",
      "Precision: 0.8305 ± 0.0516\n",
      "Recall: 0.676 ± 0.1329\n",
      "Accuracy: 0.9376 ± 0.0411\n"
     ]
    }
   ],
   "source": [
    "f1s = []\n",
    "precisions = []\n",
    "recalls = []\n",
    "accuracys = []\n",
    "for fold in classdf['Fold'].unique():\n",
    "    f1df = classdf.loc[classdf['Fold']==fold]\n",
    "    f1s.append(f1df.loc['macro avg', 'f1-score'])\n",
    "    precisions.append(f1df.loc['macro avg', 'precision'])\n",
    "    recalls.append(f1df.loc['macro avg', 'recall'])\n",
    "    accuracys.append(f1df.loc['accuracy', 'recall'])\n",
    "print('F1 Scores: ' + str(round(np.mean(f1s),4)) + ' ± ' + str(round(np.std(f1s), 4)))\n",
    "print('Precision: ' + str(round(np.mean(precisions),4)) + ' ± ' + str(round(np.std(precisions), 4)))\n",
    "print('Recall: ' + str(round(np.mean(recalls),4)) + ' ± ' + str(round(np.std(recalls), 4)))\n",
    "print('Accuracy: ' + str(round(np.mean(accuracys),4)) + ' ± ' + str(round(np.std(accuracys), 4)))"
   ]
  },
  {
   "cell_type": "markdown",
   "metadata": {},
   "source": [
    "## ROC Curve and Confusion Matrix"
   ]
  },
  {
   "cell_type": "code",
   "execution_count": 12,
   "metadata": {},
   "outputs": [
    {
     "data": {
      "image/png": "[encoded data removed]",
      "text/plain": [
       "<Figure size 432x288 with 1 Axes>"
      ]
     },
     "metadata": {
      "needs_background": "light"
     },
     "output_type": "display_data"
    },
    {
     "data": {
      "image/png": "[encoded data removed]",
      "text/plain": [
       "<Figure size 432x288 with 1 Axes>"
      ]
     },
     "metadata": {
      "needs_background": "light"
     },
     "output_type": "display_data"
    }
   ],
   "source": [
    "# Plot the ROC and AUCs of each Fold\n",
    "plt.plot([0, 1], [0, 1], linestyle='--', lw=2, color='r', label='Chance', alpha=.8)\n",
    "\n",
    "mean_tpr = np.mean(tprs, axis=0)\n",
    "mean_tpr[-1] = 1.0\n",
    "mean_auc = auc(mean_fpr, mean_tpr)\n",
    "std_auc = np.std(aucs)\n",
    "plt.plot(mean_fpr, mean_tpr, color='b',\n",
    "         label=r'Mean (AUC = %0.2f $\\pm$ %0.2f)' % (mean_auc, std_auc),\n",
    "         lw=2, alpha=.8)\n",
    "\n",
    "std_tpr = np.std(tprs, axis=0)\n",
    "tprs_upper = np.minimum(mean_tpr + std_tpr, 1)\n",
    "tprs_lower = np.maximum(mean_tpr - std_tpr, 0)\n",
    "plt.fill_between(mean_fpr, tprs_lower, tprs_upper, color='grey', alpha=.2,\n",
    "                 label=r'$\\pm$ 1 std. dev.')\n",
    "\n",
    "plt.xlim([-0.05, 1.05])\n",
    "plt.ylim([-0.05, 1.05])\n",
    "plt.xlabel('False Positive Rate')\n",
    "plt.ylabel('True Positive Rate')\n",
    "plt.title('Logit Receiver Operating Characteristic')\n",
    "plt.legend(loc=\"lower right\")\n",
    "plt.show()\n",
    "  \n",
    "\n",
    "# Add each fold's results to get the combined Confusion Matrix\n",
    "tp = fp = fn = tn = 0\n",
    "for m in cm:\n",
    "    tp += m[0][0]\n",
    "    fp += m[0][1]\n",
    "    \n",
    "    fn += m[1][0]\n",
    "    tn += m[1][1]\n",
    "    \n",
    "finalCM = [[tp, fp], [fn, tn]]\n",
    "\n",
    "# Show the confusion matrix\n",
    "ax = sns.heatmap(finalCM, annot=True, cbar=False, fmt='g')\n",
    "bottom, top = ax.get_ylim()\n",
    "ax.set_ylim(bottom + 0.5, top - 0.5)\n",
    "plt.ylabel('True Label')\n",
    "plt.xlabel('Predicted Label')\n",
    "plt.title('Combined Confusion Matrix')\n",
    "plt.show()"
   ]
  }
 ],
 "metadata": {
  "kernelspec": {
   "display_name": "Python 3",
   "language": "python",
   "name": "python3"
  },
  "language_info": {
   "codemirror_mode": {
    "name": "ipython",
    "version": 3
   },
   "file_extension": ".py",
   "mimetype": "text/x-python",
   "name": "python",
   "nbconvert_exporter": "python",
   "pygments_lexer": "ipython3",
   "version": "3.8.3"
  }
 },
 "nbformat": 4,
 "nbformat_minor": 4
}
